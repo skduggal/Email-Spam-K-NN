{
 "cells": [
  {
   "cell_type": "markdown",
   "id": "066c5269",
   "metadata": {},
   "source": [
    "# Predicting Email Spam Using Keyword Checking"
   ]
  },
  {
   "cell_type": "markdown",
   "id": "923b1528",
   "metadata": {},
   "source": [
    "**DSCI 100 group 162** : Sarah Hoang, Euna Ao, Siddhanth Duggal"
   ]
  },
  {
   "cell_type": "markdown",
   "id": "af111fa8",
   "metadata": {},
   "source": [
    "## Introduction"
   ]
  },
  {
   "cell_type": "markdown",
   "id": "f506ecca",
   "metadata": {},
   "source": [
    "### Background Information:"
   ]
  },
  {
   "cell_type": "markdown",
   "id": "1456d5f4",
   "metadata": {},
   "source": [
    "Spam emails are unsolicited messages sent in bulk with malicious intent. Diverse in nature, spam emails can come in form of advertisements for products/websites, make-money-fast schemes, chain letters, pornography. In addition to wasting the receiver’s time and resources, spam emails make users susceptible to scams and security breaches, thereby, putting them at risk of stolen information and losing money (Ahmed, 2022). "
   ]
  },
  {
   "cell_type": "markdown",
   "id": "74c3f08d",
   "metadata": {},
   "source": [
    "### Research Question:"
   ]
  },
  {
   "cell_type": "markdown",
   "id": "dc4468e9",
   "metadata": {},
   "source": [
    "Can we predict whether an email is spam or not-spam based on the frequency of exclamation marks, frequency of dollar signs, and frequency of brackets within the email?"
   ]
  },
  {
   "cell_type": "markdown",
   "id": "3dcdc9c2",
   "metadata": {},
   "source": [
    "### Information on Dataset:"
   ]
  },
  {
   "cell_type": "markdown",
   "id": "68f19033",
   "metadata": {},
   "source": [
    "This dataset consists of information derived from 4601 emails that are classified as either spam or not-spam. Collected by Hopkins et al. from the Hewlett-Packard lab in 1999, this dataset is split into two classifications of email: \n",
    "\n",
    "1) Spam emails, which was created by accumulating spam emails failed by individuals and post masters and \n",
    "\n",
    "2) Non-spam emails, which was created by personal and work emails donated by George Forman. \n",
    "\n",
    "This dataset contains information about 57 continuous real variables, and contains one class-label column to denote whether the email is spam or not (Dua D. and Graff C., 2019), (Hopkins, 1999). As the non-spam emails were donated by George Forman, words such as \"george\" and \"650\" indicate non-spam emails. No relevant papers are derived from this dataset. \n"
   ]
  },
  {
   "cell_type": "markdown",
   "id": "310b96df",
   "metadata": {},
   "source": [
    "## Preliminary Exploratory Data Analysis"
   ]
  },
  {
   "cell_type": "code",
   "execution_count": 1,
   "id": "97abfec5",
   "metadata": {},
   "outputs": [
    {
     "name": "stderr",
     "output_type": "stream",
     "text": [
      "── \u001b[1mAttaching packages\u001b[22m ─────────────────────────────────────── tidyverse 1.3.1 ──\n",
      "\n",
      "\u001b[32m✔\u001b[39m \u001b[34mggplot2\u001b[39m 3.3.6     \u001b[32m✔\u001b[39m \u001b[34mpurrr  \u001b[39m 0.3.4\n",
      "\u001b[32m✔\u001b[39m \u001b[34mtibble \u001b[39m 3.1.7     \u001b[32m✔\u001b[39m \u001b[34mdplyr  \u001b[39m 1.0.9\n",
      "\u001b[32m✔\u001b[39m \u001b[34mtidyr  \u001b[39m 1.2.0     \u001b[32m✔\u001b[39m \u001b[34mstringr\u001b[39m 1.4.0\n",
      "\u001b[32m✔\u001b[39m \u001b[34mreadr  \u001b[39m 2.1.2     \u001b[32m✔\u001b[39m \u001b[34mforcats\u001b[39m 0.5.1\n",
      "\n",
      "── \u001b[1mConflicts\u001b[22m ────────────────────────────────────────── tidyverse_conflicts() ──\n",
      "\u001b[31m✖\u001b[39m \u001b[34mdplyr\u001b[39m::\u001b[32mfilter()\u001b[39m masks \u001b[34mstats\u001b[39m::filter()\n",
      "\u001b[31m✖\u001b[39m \u001b[34mdplyr\u001b[39m::\u001b[32mlag()\u001b[39m    masks \u001b[34mstats\u001b[39m::lag()\n",
      "\n",
      "── \u001b[1mAttaching packages\u001b[22m ────────────────────────────────────── tidymodels 1.0.0 ──\n",
      "\n",
      "\u001b[32m✔\u001b[39m \u001b[34mbroom       \u001b[39m 1.0.0     \u001b[32m✔\u001b[39m \u001b[34mrsample     \u001b[39m 1.0.0\n",
      "\u001b[32m✔\u001b[39m \u001b[34mdials       \u001b[39m 1.0.0     \u001b[32m✔\u001b[39m \u001b[34mtune        \u001b[39m 1.0.0\n",
      "\u001b[32m✔\u001b[39m \u001b[34minfer       \u001b[39m 1.0.2     \u001b[32m✔\u001b[39m \u001b[34mworkflows   \u001b[39m 1.0.0\n",
      "\u001b[32m✔\u001b[39m \u001b[34mmodeldata   \u001b[39m 1.0.0     \u001b[32m✔\u001b[39m \u001b[34mworkflowsets\u001b[39m 1.0.0\n",
      "\u001b[32m✔\u001b[39m \u001b[34mparsnip     \u001b[39m 1.0.0     \u001b[32m✔\u001b[39m \u001b[34myardstick   \u001b[39m 1.0.0\n",
      "\u001b[32m✔\u001b[39m \u001b[34mrecipes     \u001b[39m 1.0.1     \n",
      "\n",
      "── \u001b[1mConflicts\u001b[22m ───────────────────────────────────────── tidymodels_conflicts() ──\n",
      "\u001b[31m✖\u001b[39m \u001b[34mscales\u001b[39m::\u001b[32mdiscard()\u001b[39m masks \u001b[34mpurrr\u001b[39m::discard()\n",
      "\u001b[31m✖\u001b[39m \u001b[34mdplyr\u001b[39m::\u001b[32mfilter()\u001b[39m   masks \u001b[34mstats\u001b[39m::filter()\n",
      "\u001b[31m✖\u001b[39m \u001b[34mrecipes\u001b[39m::\u001b[32mfixed()\u001b[39m  masks \u001b[34mstringr\u001b[39m::fixed()\n",
      "\u001b[31m✖\u001b[39m \u001b[34mdplyr\u001b[39m::\u001b[32mlag()\u001b[39m      masks \u001b[34mstats\u001b[39m::lag()\n",
      "\u001b[31m✖\u001b[39m \u001b[34myardstick\u001b[39m::\u001b[32mspec()\u001b[39m masks \u001b[34mreadr\u001b[39m::spec()\n",
      "\u001b[31m✖\u001b[39m \u001b[34mrecipes\u001b[39m::\u001b[32mstep()\u001b[39m   masks \u001b[34mstats\u001b[39m::step()\n",
      "\u001b[34m•\u001b[39m Learn how to get started at \u001b[32mhttps://www.tidymodels.org/start/\u001b[39m\n",
      "\n",
      "Registered S3 method overwritten by 'GGally':\n",
      "  method from   \n",
      "  +.gg   ggplot2\n",
      "\n"
     ]
    }
   ],
   "source": [
    "library(tidyverse)\n",
    "library(repr)\n",
    "library(tidymodels)\n",
    "library(cowplot)\n",
    "library(GGally)\n",
    "options(repr.matrix.max.rows = 6)"
   ]
  },
  {
   "cell_type": "markdown",
   "id": "464eba70",
   "metadata": {},
   "source": [
    "### 1. Load Data into R"
   ]
  },
  {
   "cell_type": "code",
   "execution_count": 2,
   "id": "55a2213c",
   "metadata": {},
   "outputs": [
    {
     "name": "stderr",
     "output_type": "stream",
     "text": [
      "\u001b[1mRows: \u001b[22m\u001b[34m4601\u001b[39m \u001b[1mColumns: \u001b[22m\u001b[34m58\u001b[39m\n",
      "\u001b[36m──\u001b[39m \u001b[1mColumn specification\u001b[22m \u001b[36m────────────────────────────────────────────────────────\u001b[39m\n",
      "\u001b[1mDelimiter:\u001b[22m \",\"\n",
      "\u001b[32mdbl\u001b[39m (58): X1, X2, X3, X4, X5, X6, X7, X8, X9, X10, X11, X12, X13, X14, X15, ...\n",
      "\n",
      "\u001b[36mℹ\u001b[39m Use `spec()` to retrieve the full column specification for this data.\n",
      "\u001b[36mℹ\u001b[39m Specify the column types or set `show_col_types = FALSE` to quiet this message.\n"
     ]
    }
   ],
   "source": [
    "data <- read_csv(\"https://raw.githubusercontent.com/SarahHoang/dsci-100-project-group-162/main/spambase.data\", \n",
    "                      col_names = FALSE)"
   ]
  },
  {
   "cell_type": "code",
   "execution_count": 3,
   "id": "53f34a0b",
   "metadata": {},
   "outputs": [
    {
     "data": {
      "text/html": [
       "<table class=\"dataframe\">\n",
       "<caption>A spec_tbl_df: 4601 × 58</caption>\n",
       "<thead>\n",
       "\t<tr><th scope=col>X1</th><th scope=col>X2</th><th scope=col>X3</th><th scope=col>X4</th><th scope=col>X5</th><th scope=col>X6</th><th scope=col>X7</th><th scope=col>X8</th><th scope=col>X9</th><th scope=col>X10</th><th scope=col>⋯</th><th scope=col>X49</th><th scope=col>X50</th><th scope=col>X51</th><th scope=col>X52</th><th scope=col>X53</th><th scope=col>X54</th><th scope=col>X55</th><th scope=col>X56</th><th scope=col>X57</th><th scope=col>X58</th></tr>\n",
       "\t<tr><th scope=col>&lt;dbl&gt;</th><th scope=col>&lt;dbl&gt;</th><th scope=col>&lt;dbl&gt;</th><th scope=col>&lt;dbl&gt;</th><th scope=col>&lt;dbl&gt;</th><th scope=col>&lt;dbl&gt;</th><th scope=col>&lt;dbl&gt;</th><th scope=col>&lt;dbl&gt;</th><th scope=col>&lt;dbl&gt;</th><th scope=col>&lt;dbl&gt;</th><th scope=col>⋯</th><th scope=col>&lt;dbl&gt;</th><th scope=col>&lt;dbl&gt;</th><th scope=col>&lt;dbl&gt;</th><th scope=col>&lt;dbl&gt;</th><th scope=col>&lt;dbl&gt;</th><th scope=col>&lt;dbl&gt;</th><th scope=col>&lt;dbl&gt;</th><th scope=col>&lt;dbl&gt;</th><th scope=col>&lt;dbl&gt;</th><th scope=col>&lt;dbl&gt;</th></tr>\n",
       "</thead>\n",
       "<tbody>\n",
       "\t<tr><td>0.00</td><td>0.64</td><td>0.64</td><td>0</td><td>0.32</td><td>0.00</td><td>0.00</td><td>0.00</td><td>0.00</td><td>0.00</td><td>⋯</td><td>0.00</td><td>0.000</td><td>0</td><td>0.778</td><td>0.000</td><td>0.000</td><td>3.756</td><td> 61</td><td> 278</td><td>1</td></tr>\n",
       "\t<tr><td>0.21</td><td>0.28</td><td>0.50</td><td>0</td><td>0.14</td><td>0.28</td><td>0.21</td><td>0.07</td><td>0.00</td><td>0.94</td><td>⋯</td><td>0.00</td><td>0.132</td><td>0</td><td>0.372</td><td>0.180</td><td>0.048</td><td>5.114</td><td>101</td><td>1028</td><td>1</td></tr>\n",
       "\t<tr><td>0.06</td><td>0.00</td><td>0.71</td><td>0</td><td>1.23</td><td>0.19</td><td>0.19</td><td>0.12</td><td>0.64</td><td>0.25</td><td>⋯</td><td>0.01</td><td>0.143</td><td>0</td><td>0.276</td><td>0.184</td><td>0.010</td><td>9.821</td><td>485</td><td>2259</td><td>1</td></tr>\n",
       "\t<tr><td>⋮</td><td>⋮</td><td>⋮</td><td>⋮</td><td>⋮</td><td>⋮</td><td>⋮</td><td>⋮</td><td>⋮</td><td>⋮</td><td>⋱</td><td>⋮</td><td>⋮</td><td>⋮</td><td>⋮</td><td>⋮</td><td>⋮</td><td>⋮</td><td>⋮</td><td>⋮</td><td>⋮</td></tr>\n",
       "\t<tr><td>0.30</td><td>0</td><td>0.30</td><td>0</td><td>0.00</td><td>0</td><td>0</td><td>0</td><td>0</td><td>0</td><td>⋯</td><td>0.102</td><td>0.718</td><td>0</td><td>0.000</td><td>0</td><td>0</td><td>1.404</td><td>6</td><td>118</td><td>0</td></tr>\n",
       "\t<tr><td>0.96</td><td>0</td><td>0.00</td><td>0</td><td>0.32</td><td>0</td><td>0</td><td>0</td><td>0</td><td>0</td><td>⋯</td><td>0.000</td><td>0.057</td><td>0</td><td>0.000</td><td>0</td><td>0</td><td>1.147</td><td>5</td><td> 78</td><td>0</td></tr>\n",
       "\t<tr><td>0.00</td><td>0</td><td>0.65</td><td>0</td><td>0.00</td><td>0</td><td>0</td><td>0</td><td>0</td><td>0</td><td>⋯</td><td>0.000</td><td>0.000</td><td>0</td><td>0.125</td><td>0</td><td>0</td><td>1.250</td><td>5</td><td> 40</td><td>0</td></tr>\n",
       "</tbody>\n",
       "</table>\n"
      ],
      "text/latex": [
       "A spec\\_tbl\\_df: 4601 × 58\n",
       "\\begin{tabular}{lllllllllllllllllllll}\n",
       " X1 & X2 & X3 & X4 & X5 & X6 & X7 & X8 & X9 & X10 & ⋯ & X49 & X50 & X51 & X52 & X53 & X54 & X55 & X56 & X57 & X58\\\\\n",
       " <dbl> & <dbl> & <dbl> & <dbl> & <dbl> & <dbl> & <dbl> & <dbl> & <dbl> & <dbl> & ⋯ & <dbl> & <dbl> & <dbl> & <dbl> & <dbl> & <dbl> & <dbl> & <dbl> & <dbl> & <dbl>\\\\\n",
       "\\hline\n",
       "\t 0.00 & 0.64 & 0.64 & 0 & 0.32 & 0.00 & 0.00 & 0.00 & 0.00 & 0.00 & ⋯ & 0.00 & 0.000 & 0 & 0.778 & 0.000 & 0.000 & 3.756 &  61 &  278 & 1\\\\\n",
       "\t 0.21 & 0.28 & 0.50 & 0 & 0.14 & 0.28 & 0.21 & 0.07 & 0.00 & 0.94 & ⋯ & 0.00 & 0.132 & 0 & 0.372 & 0.180 & 0.048 & 5.114 & 101 & 1028 & 1\\\\\n",
       "\t 0.06 & 0.00 & 0.71 & 0 & 1.23 & 0.19 & 0.19 & 0.12 & 0.64 & 0.25 & ⋯ & 0.01 & 0.143 & 0 & 0.276 & 0.184 & 0.010 & 9.821 & 485 & 2259 & 1\\\\\n",
       "\t ⋮ & ⋮ & ⋮ & ⋮ & ⋮ & ⋮ & ⋮ & ⋮ & ⋮ & ⋮ & ⋱ & ⋮ & ⋮ & ⋮ & ⋮ & ⋮ & ⋮ & ⋮ & ⋮ & ⋮ & ⋮\\\\\n",
       "\t 0.30 & 0 & 0.30 & 0 & 0.00 & 0 & 0 & 0 & 0 & 0 & ⋯ & 0.102 & 0.718 & 0 & 0.000 & 0 & 0 & 1.404 & 6 & 118 & 0\\\\\n",
       "\t 0.96 & 0 & 0.00 & 0 & 0.32 & 0 & 0 & 0 & 0 & 0 & ⋯ & 0.000 & 0.057 & 0 & 0.000 & 0 & 0 & 1.147 & 5 &  78 & 0\\\\\n",
       "\t 0.00 & 0 & 0.65 & 0 & 0.00 & 0 & 0 & 0 & 0 & 0 & ⋯ & 0.000 & 0.000 & 0 & 0.125 & 0 & 0 & 1.250 & 5 &  40 & 0\\\\\n",
       "\\end{tabular}\n"
      ],
      "text/markdown": [
       "\n",
       "A spec_tbl_df: 4601 × 58\n",
       "\n",
       "| X1 &lt;dbl&gt; | X2 &lt;dbl&gt; | X3 &lt;dbl&gt; | X4 &lt;dbl&gt; | X5 &lt;dbl&gt; | X6 &lt;dbl&gt; | X7 &lt;dbl&gt; | X8 &lt;dbl&gt; | X9 &lt;dbl&gt; | X10 &lt;dbl&gt; | ⋯ ⋯ | X49 &lt;dbl&gt; | X50 &lt;dbl&gt; | X51 &lt;dbl&gt; | X52 &lt;dbl&gt; | X53 &lt;dbl&gt; | X54 &lt;dbl&gt; | X55 &lt;dbl&gt; | X56 &lt;dbl&gt; | X57 &lt;dbl&gt; | X58 &lt;dbl&gt; |\n",
       "|---|---|---|---|---|---|---|---|---|---|---|---|---|---|---|---|---|---|---|---|---|\n",
       "| 0.00 | 0.64 | 0.64 | 0 | 0.32 | 0.00 | 0.00 | 0.00 | 0.00 | 0.00 | ⋯ | 0.00 | 0.000 | 0 | 0.778 | 0.000 | 0.000 | 3.756 |  61 |  278 | 1 |\n",
       "| 0.21 | 0.28 | 0.50 | 0 | 0.14 | 0.28 | 0.21 | 0.07 | 0.00 | 0.94 | ⋯ | 0.00 | 0.132 | 0 | 0.372 | 0.180 | 0.048 | 5.114 | 101 | 1028 | 1 |\n",
       "| 0.06 | 0.00 | 0.71 | 0 | 1.23 | 0.19 | 0.19 | 0.12 | 0.64 | 0.25 | ⋯ | 0.01 | 0.143 | 0 | 0.276 | 0.184 | 0.010 | 9.821 | 485 | 2259 | 1 |\n",
       "| ⋮ | ⋮ | ⋮ | ⋮ | ⋮ | ⋮ | ⋮ | ⋮ | ⋮ | ⋮ | ⋱ | ⋮ | ⋮ | ⋮ | ⋮ | ⋮ | ⋮ | ⋮ | ⋮ | ⋮ | ⋮ |\n",
       "| 0.30 | 0 | 0.30 | 0 | 0.00 | 0 | 0 | 0 | 0 | 0 | ⋯ | 0.102 | 0.718 | 0 | 0.000 | 0 | 0 | 1.404 | 6 | 118 | 0 |\n",
       "| 0.96 | 0 | 0.00 | 0 | 0.32 | 0 | 0 | 0 | 0 | 0 | ⋯ | 0.000 | 0.057 | 0 | 0.000 | 0 | 0 | 1.147 | 5 |  78 | 0 |\n",
       "| 0.00 | 0 | 0.65 | 0 | 0.00 | 0 | 0 | 0 | 0 | 0 | ⋯ | 0.000 | 0.000 | 0 | 0.125 | 0 | 0 | 1.250 | 5 |  40 | 0 |\n",
       "\n"
      ],
      "text/plain": [
       "     X1   X2   X3   X4 X5   X6   X7   X8   X9   X10  ⋯ X49   X50   X51 X52  \n",
       "1    0.00 0.64 0.64 0  0.32 0.00 0.00 0.00 0.00 0.00 ⋯ 0.00  0.000 0   0.778\n",
       "2    0.21 0.28 0.50 0  0.14 0.28 0.21 0.07 0.00 0.94 ⋯ 0.00  0.132 0   0.372\n",
       "3    0.06 0.00 0.71 0  1.23 0.19 0.19 0.12 0.64 0.25 ⋯ 0.01  0.143 0   0.276\n",
       "⋮    ⋮    ⋮    ⋮    ⋮  ⋮    ⋮    ⋮    ⋮    ⋮    ⋮    ⋱ ⋮     ⋮     ⋮   ⋮    \n",
       "4599 0.30 0    0.30 0  0.00 0    0    0    0    0    ⋯ 0.102 0.718 0   0.000\n",
       "4600 0.96 0    0.00 0  0.32 0    0    0    0    0    ⋯ 0.000 0.057 0   0.000\n",
       "4601 0.00 0    0.65 0  0.00 0    0    0    0    0    ⋯ 0.000 0.000 0   0.125\n",
       "     X53   X54   X55   X56 X57  X58\n",
       "1    0.000 0.000 3.756  61  278 1  \n",
       "2    0.180 0.048 5.114 101 1028 1  \n",
       "3    0.184 0.010 9.821 485 2259 1  \n",
       "⋮    ⋮     ⋮     ⋮     ⋮   ⋮    ⋮  \n",
       "4599 0     0     1.404 6   118  0  \n",
       "4600 0     0     1.147 5    78  0  \n",
       "4601 0     0     1.250 5    40  0  "
      ]
     },
     "metadata": {},
     "output_type": "display_data"
    }
   ],
   "source": [
    "data"
   ]
  },
  {
   "cell_type": "markdown",
   "id": "7899cc0e-d795-4795-b4db-15ca283bd7ac",
   "metadata": {},
   "source": [
    "                                                        Figure 1.0 - Spambase Data"
   ]
  },
  {
   "cell_type": "markdown",
   "id": "91536371",
   "metadata": {},
   "source": [
    "### 2. Cleaning and Wrangling data into Tidy Format\n",
    "\n",
    "After reading our dataset from the web, we will clean and wrangle the data into tidy format. This includes renaming the columns and mutating the classification label to a factor. We also added serial numbers to every observation and removed rows containing missing values. We are keeping all predictor variables as we will need them all to later determine which predictor variables are appropriate for our model. Refer to Figure 2.0 for the tidy dataset."
   ]
  },
  {
   "cell_type": "code",
   "execution_count": 4,
   "id": "9cc990cc",
   "metadata": {},
   "outputs": [
    {
     "name": "stderr",
     "output_type": "stream",
     "text": [
      "\u001b[1mRows: \u001b[22m\u001b[34m57\u001b[39m \u001b[1mColumns: \u001b[22m\u001b[34m2\u001b[39m\n",
      "\u001b[36m──\u001b[39m \u001b[1mColumn specification\u001b[22m \u001b[36m────────────────────────────────────────────────────────\u001b[39m\n",
      "\u001b[1mDelimiter:\u001b[22m \":\"\n",
      "\u001b[31mchr\u001b[39m (2): X1, X2\n",
      "\n",
      "\u001b[36mℹ\u001b[39m Use `spec()` to retrieve the full column specification for this data.\n",
      "\u001b[36mℹ\u001b[39m Specify the column types or set `show_col_types = FALSE` to quiet this message.\n"
     ]
    }
   ],
   "source": [
    "#generating column names for our dataset\n",
    "clean_data <- tibble::rowid_to_column(data)\n",
    "\n",
    "#generating column names for our dataset\n",
    "column_names <- read_delim(\"https://raw.githubusercontent.com/SarahHoang/dsci-100-project-group-162/main/spambase.names\", \n",
    "                         skip = 33,\n",
    "                        col_names = FALSE) |> \n",
    "                        select(X1) |>\n",
    "                        rename(\"col_name\" = X1)\n",
    "\n",
    "col <- toString(column_names)\n",
    "\n",
    "colnames(clean_data) <- c(\"ID\", \"word_freq_make\", \"word_freq_address\", \"word_freq_all\", \"word_freq_3d\", \"word_freq_our\", \"word_freq_over\", \n",
    "  \"word_freq_remove\", \"word_freq_internet\", \"word_freq_order\", \"word_freq_mail\", \"word_freq_receive\", \"word_freq_will\", \n",
    "  \"word_freq_people\", \"word_freq_report\", \"word_freq_addresses\", \"word_freq_free\", \"word_freq_business\", \"word_freq_email\", \n",
    "  \"word_freq_you\", \"word_freq_credit\", \"word_freq_your\", \"word_freq_font\", \"word_freq_000\", \"word_freq_money\", \n",
    "  \"word_freq_hp\", \"word_freq_hpl\", \"word_freq_george\", \"word_freq_650\", \"word_freq_lab\", \"word_freq_labs\", \n",
    "  \"word_freq_telnet\", \"word_freq_857\", \"word_freq_data\", \"word_freq_415\", \"word_freq_85\", \"word_freq_technology\", \n",
    "  \"word_freq_1999\", \"word_freq_parts\", \"word_freq_pm\", \"word_freq_direct\", \"word_freq_cs\", \"word_freq_meeting\", \n",
    "  \"word_freq_original\", \"word_freq_project\", \"word_freq_re\", \"word_freq_edu\", \"word_freq_table\", \"word_freq_conference\", \n",
    "  \"char_freq_semicolon\", \"char_freq_bracket\", \"char_freq_squarebracket\", \"char_freq_exclamation\", \n",
    "                          \"char_freq_dollar\", \"char_freq_hashtag\", \"capital_run_length_average\", \n",
    "  \"capital_run_length_longest\", \"capital_run_length_total\", \"spam_indicator\")\n",
    "\n",
    "\n",
    "#Changing class label from dbl to factor\n",
    "\n",
    "clean_data <- clean_data |>\n",
    "   mutate(spam_indicator = as_factor(spam_indicator))\n",
    "\n",
    "            "
   ]
  },
  {
   "cell_type": "code",
   "execution_count": 5,
   "id": "4eee8682",
   "metadata": {},
   "outputs": [
    {
     "data": {
      "text/html": [
       "<table class=\"dataframe\">\n",
       "<caption>A tibble: 4601 × 59</caption>\n",
       "<thead>\n",
       "\t<tr><th scope=col>ID</th><th scope=col>word_freq_make</th><th scope=col>word_freq_address</th><th scope=col>word_freq_all</th><th scope=col>word_freq_3d</th><th scope=col>word_freq_our</th><th scope=col>word_freq_over</th><th scope=col>word_freq_remove</th><th scope=col>word_freq_internet</th><th scope=col>word_freq_order</th><th scope=col>⋯</th><th scope=col>char_freq_semicolon</th><th scope=col>char_freq_bracket</th><th scope=col>char_freq_squarebracket</th><th scope=col>char_freq_exclamation</th><th scope=col>char_freq_dollar</th><th scope=col>char_freq_hashtag</th><th scope=col>capital_run_length_average</th><th scope=col>capital_run_length_longest</th><th scope=col>capital_run_length_total</th><th scope=col>spam_indicator</th></tr>\n",
       "\t<tr><th scope=col>&lt;int&gt;</th><th scope=col>&lt;dbl&gt;</th><th scope=col>&lt;dbl&gt;</th><th scope=col>&lt;dbl&gt;</th><th scope=col>&lt;dbl&gt;</th><th scope=col>&lt;dbl&gt;</th><th scope=col>&lt;dbl&gt;</th><th scope=col>&lt;dbl&gt;</th><th scope=col>&lt;dbl&gt;</th><th scope=col>&lt;dbl&gt;</th><th scope=col>⋯</th><th scope=col>&lt;dbl&gt;</th><th scope=col>&lt;dbl&gt;</th><th scope=col>&lt;dbl&gt;</th><th scope=col>&lt;dbl&gt;</th><th scope=col>&lt;dbl&gt;</th><th scope=col>&lt;dbl&gt;</th><th scope=col>&lt;dbl&gt;</th><th scope=col>&lt;dbl&gt;</th><th scope=col>&lt;dbl&gt;</th><th scope=col>&lt;fct&gt;</th></tr>\n",
       "</thead>\n",
       "<tbody>\n",
       "\t<tr><td>1</td><td>0.00</td><td>0.64</td><td>0.64</td><td>0</td><td>0.32</td><td>0.00</td><td>0.00</td><td>0.00</td><td>0.00</td><td>⋯</td><td>0.00</td><td>0.000</td><td>0</td><td>0.778</td><td>0.000</td><td>0.000</td><td>3.756</td><td> 61</td><td> 278</td><td>1</td></tr>\n",
       "\t<tr><td>2</td><td>0.21</td><td>0.28</td><td>0.50</td><td>0</td><td>0.14</td><td>0.28</td><td>0.21</td><td>0.07</td><td>0.00</td><td>⋯</td><td>0.00</td><td>0.132</td><td>0</td><td>0.372</td><td>0.180</td><td>0.048</td><td>5.114</td><td>101</td><td>1028</td><td>1</td></tr>\n",
       "\t<tr><td>3</td><td>0.06</td><td>0.00</td><td>0.71</td><td>0</td><td>1.23</td><td>0.19</td><td>0.19</td><td>0.12</td><td>0.64</td><td>⋯</td><td>0.01</td><td>0.143</td><td>0</td><td>0.276</td><td>0.184</td><td>0.010</td><td>9.821</td><td>485</td><td>2259</td><td>1</td></tr>\n",
       "\t<tr><td>⋮</td><td>⋮</td><td>⋮</td><td>⋮</td><td>⋮</td><td>⋮</td><td>⋮</td><td>⋮</td><td>⋮</td><td>⋮</td><td>⋱</td><td>⋮</td><td>⋮</td><td>⋮</td><td>⋮</td><td>⋮</td><td>⋮</td><td>⋮</td><td>⋮</td><td>⋮</td><td>⋮</td></tr>\n",
       "\t<tr><td>4599</td><td>0.30</td><td>0</td><td>0.30</td><td>0</td><td>0.00</td><td>0</td><td>0</td><td>0</td><td>0</td><td>⋯</td><td>0.102</td><td>0.718</td><td>0</td><td>0.000</td><td>0</td><td>0</td><td>1.404</td><td>6</td><td>118</td><td>0</td></tr>\n",
       "\t<tr><td>4600</td><td>0.96</td><td>0</td><td>0.00</td><td>0</td><td>0.32</td><td>0</td><td>0</td><td>0</td><td>0</td><td>⋯</td><td>0.000</td><td>0.057</td><td>0</td><td>0.000</td><td>0</td><td>0</td><td>1.147</td><td>5</td><td> 78</td><td>0</td></tr>\n",
       "\t<tr><td>4601</td><td>0.00</td><td>0</td><td>0.65</td><td>0</td><td>0.00</td><td>0</td><td>0</td><td>0</td><td>0</td><td>⋯</td><td>0.000</td><td>0.000</td><td>0</td><td>0.125</td><td>0</td><td>0</td><td>1.250</td><td>5</td><td> 40</td><td>0</td></tr>\n",
       "</tbody>\n",
       "</table>\n"
      ],
      "text/latex": [
       "A tibble: 4601 × 59\n",
       "\\begin{tabular}{lllllllllllllllllllll}\n",
       " ID & word\\_freq\\_make & word\\_freq\\_address & word\\_freq\\_all & word\\_freq\\_3d & word\\_freq\\_our & word\\_freq\\_over & word\\_freq\\_remove & word\\_freq\\_internet & word\\_freq\\_order & ⋯ & char\\_freq\\_semicolon & char\\_freq\\_bracket & char\\_freq\\_squarebracket & char\\_freq\\_exclamation & char\\_freq\\_dollar & char\\_freq\\_hashtag & capital\\_run\\_length\\_average & capital\\_run\\_length\\_longest & capital\\_run\\_length\\_total & spam\\_indicator\\\\\n",
       " <int> & <dbl> & <dbl> & <dbl> & <dbl> & <dbl> & <dbl> & <dbl> & <dbl> & <dbl> & ⋯ & <dbl> & <dbl> & <dbl> & <dbl> & <dbl> & <dbl> & <dbl> & <dbl> & <dbl> & <fct>\\\\\n",
       "\\hline\n",
       "\t 1 & 0.00 & 0.64 & 0.64 & 0 & 0.32 & 0.00 & 0.00 & 0.00 & 0.00 & ⋯ & 0.00 & 0.000 & 0 & 0.778 & 0.000 & 0.000 & 3.756 &  61 &  278 & 1\\\\\n",
       "\t 2 & 0.21 & 0.28 & 0.50 & 0 & 0.14 & 0.28 & 0.21 & 0.07 & 0.00 & ⋯ & 0.00 & 0.132 & 0 & 0.372 & 0.180 & 0.048 & 5.114 & 101 & 1028 & 1\\\\\n",
       "\t 3 & 0.06 & 0.00 & 0.71 & 0 & 1.23 & 0.19 & 0.19 & 0.12 & 0.64 & ⋯ & 0.01 & 0.143 & 0 & 0.276 & 0.184 & 0.010 & 9.821 & 485 & 2259 & 1\\\\\n",
       "\t ⋮ & ⋮ & ⋮ & ⋮ & ⋮ & ⋮ & ⋮ & ⋮ & ⋮ & ⋮ & ⋱ & ⋮ & ⋮ & ⋮ & ⋮ & ⋮ & ⋮ & ⋮ & ⋮ & ⋮ & ⋮\\\\\n",
       "\t 4599 & 0.30 & 0 & 0.30 & 0 & 0.00 & 0 & 0 & 0 & 0 & ⋯ & 0.102 & 0.718 & 0 & 0.000 & 0 & 0 & 1.404 & 6 & 118 & 0\\\\\n",
       "\t 4600 & 0.96 & 0 & 0.00 & 0 & 0.32 & 0 & 0 & 0 & 0 & ⋯ & 0.000 & 0.057 & 0 & 0.000 & 0 & 0 & 1.147 & 5 &  78 & 0\\\\\n",
       "\t 4601 & 0.00 & 0 & 0.65 & 0 & 0.00 & 0 & 0 & 0 & 0 & ⋯ & 0.000 & 0.000 & 0 & 0.125 & 0 & 0 & 1.250 & 5 &  40 & 0\\\\\n",
       "\\end{tabular}\n"
      ],
      "text/markdown": [
       "\n",
       "A tibble: 4601 × 59\n",
       "\n",
       "| ID &lt;int&gt; | word_freq_make &lt;dbl&gt; | word_freq_address &lt;dbl&gt; | word_freq_all &lt;dbl&gt; | word_freq_3d &lt;dbl&gt; | word_freq_our &lt;dbl&gt; | word_freq_over &lt;dbl&gt; | word_freq_remove &lt;dbl&gt; | word_freq_internet &lt;dbl&gt; | word_freq_order &lt;dbl&gt; | ⋯ ⋯ | char_freq_semicolon &lt;dbl&gt; | char_freq_bracket &lt;dbl&gt; | char_freq_squarebracket &lt;dbl&gt; | char_freq_exclamation &lt;dbl&gt; | char_freq_dollar &lt;dbl&gt; | char_freq_hashtag &lt;dbl&gt; | capital_run_length_average &lt;dbl&gt; | capital_run_length_longest &lt;dbl&gt; | capital_run_length_total &lt;dbl&gt; | spam_indicator &lt;fct&gt; |\n",
       "|---|---|---|---|---|---|---|---|---|---|---|---|---|---|---|---|---|---|---|---|---|\n",
       "| 1 | 0.00 | 0.64 | 0.64 | 0 | 0.32 | 0.00 | 0.00 | 0.00 | 0.00 | ⋯ | 0.00 | 0.000 | 0 | 0.778 | 0.000 | 0.000 | 3.756 |  61 |  278 | 1 |\n",
       "| 2 | 0.21 | 0.28 | 0.50 | 0 | 0.14 | 0.28 | 0.21 | 0.07 | 0.00 | ⋯ | 0.00 | 0.132 | 0 | 0.372 | 0.180 | 0.048 | 5.114 | 101 | 1028 | 1 |\n",
       "| 3 | 0.06 | 0.00 | 0.71 | 0 | 1.23 | 0.19 | 0.19 | 0.12 | 0.64 | ⋯ | 0.01 | 0.143 | 0 | 0.276 | 0.184 | 0.010 | 9.821 | 485 | 2259 | 1 |\n",
       "| ⋮ | ⋮ | ⋮ | ⋮ | ⋮ | ⋮ | ⋮ | ⋮ | ⋮ | ⋮ | ⋱ | ⋮ | ⋮ | ⋮ | ⋮ | ⋮ | ⋮ | ⋮ | ⋮ | ⋮ | ⋮ |\n",
       "| 4599 | 0.30 | 0 | 0.30 | 0 | 0.00 | 0 | 0 | 0 | 0 | ⋯ | 0.102 | 0.718 | 0 | 0.000 | 0 | 0 | 1.404 | 6 | 118 | 0 |\n",
       "| 4600 | 0.96 | 0 | 0.00 | 0 | 0.32 | 0 | 0 | 0 | 0 | ⋯ | 0.000 | 0.057 | 0 | 0.000 | 0 | 0 | 1.147 | 5 |  78 | 0 |\n",
       "| 4601 | 0.00 | 0 | 0.65 | 0 | 0.00 | 0 | 0 | 0 | 0 | ⋯ | 0.000 | 0.000 | 0 | 0.125 | 0 | 0 | 1.250 | 5 |  40 | 0 |\n",
       "\n"
      ],
      "text/plain": [
       "     ID   word_freq_make word_freq_address word_freq_all word_freq_3d\n",
       "1    1    0.00           0.64              0.64          0           \n",
       "2    2    0.21           0.28              0.50          0           \n",
       "3    3    0.06           0.00              0.71          0           \n",
       "⋮    ⋮    ⋮              ⋮                 ⋮             ⋮           \n",
       "4599 4599 0.30           0                 0.30          0           \n",
       "4600 4600 0.96           0                 0.00          0           \n",
       "4601 4601 0.00           0                 0.65          0           \n",
       "     word_freq_our word_freq_over word_freq_remove word_freq_internet\n",
       "1    0.32          0.00           0.00             0.00              \n",
       "2    0.14          0.28           0.21             0.07              \n",
       "3    1.23          0.19           0.19             0.12              \n",
       "⋮    ⋮             ⋮              ⋮                ⋮                 \n",
       "4599 0.00          0              0                0                 \n",
       "4600 0.32          0              0                0                 \n",
       "4601 0.00          0              0                0                 \n",
       "     word_freq_order ⋯ char_freq_semicolon char_freq_bracket\n",
       "1    0.00            ⋯ 0.00                0.000            \n",
       "2    0.00            ⋯ 0.00                0.132            \n",
       "3    0.64            ⋯ 0.01                0.143            \n",
       "⋮    ⋮               ⋱ ⋮                   ⋮                \n",
       "4599 0               ⋯ 0.102               0.718            \n",
       "4600 0               ⋯ 0.000               0.057            \n",
       "4601 0               ⋯ 0.000               0.000            \n",
       "     char_freq_squarebracket char_freq_exclamation char_freq_dollar\n",
       "1    0                       0.778                 0.000           \n",
       "2    0                       0.372                 0.180           \n",
       "3    0                       0.276                 0.184           \n",
       "⋮    ⋮                       ⋮                     ⋮               \n",
       "4599 0                       0.000                 0               \n",
       "4600 0                       0.000                 0               \n",
       "4601 0                       0.125                 0               \n",
       "     char_freq_hashtag capital_run_length_average capital_run_length_longest\n",
       "1    0.000             3.756                       61                       \n",
       "2    0.048             5.114                      101                       \n",
       "3    0.010             9.821                      485                       \n",
       "⋮    ⋮                 ⋮                          ⋮                         \n",
       "4599 0                 1.404                      6                         \n",
       "4600 0                 1.147                      5                         \n",
       "4601 0                 1.250                      5                         \n",
       "     capital_run_length_total spam_indicator\n",
       "1     278                     1             \n",
       "2    1028                     1             \n",
       "3    2259                     1             \n",
       "⋮    ⋮                        ⋮             \n",
       "4599 118                      0             \n",
       "4600  78                      0             \n",
       "4601  40                      0             "
      ]
     },
     "metadata": {},
     "output_type": "display_data"
    }
   ],
   "source": [
    "clean_data"
   ]
  },
  {
   "cell_type": "markdown",
   "id": "e08671eb-b6ce-4692-812e-450e841f0204",
   "metadata": {},
   "source": [
    "                                        Figure 2.0 - Tidy Spambase Data"
   ]
  },
  {
   "cell_type": "markdown",
   "id": "800af2aa",
   "metadata": {},
   "source": [
    "### 3. Split Data into Training and Testing Datasets (Display table: Training Data)\n",
    "\n",
    "We split the dataset into a training and testing dataset. We also set the seed to ensure reproducability. We used a prop value of 0.75, meaning that 75% of our data was allocated as training data, while the remaining 25% of the data will be our testing data. The testing data is set aside. "
   ]
  },
  {
   "cell_type": "code",
   "execution_count": 6,
   "id": "ec42cbec",
   "metadata": {},
   "outputs": [],
   "source": [
    "set.seed(6666)\n",
    "\n",
    "data_split <- initial_split(clean_data, prop = 0.75, strata = spam_indicator)\n",
    "data_train <- training(data_split)\n",
    "data_test <- testing(data_split)"
   ]
  },
  {
   "cell_type": "code",
   "execution_count": 7,
   "id": "ba1a2c84-da0d-41b1-8573-2b27cf73399d",
   "metadata": {},
   "outputs": [
    {
     "data": {
      "text/html": [
       "<table class=\"dataframe\">\n",
       "<caption>A tibble: 3450 × 59</caption>\n",
       "<thead>\n",
       "\t<tr><th scope=col>ID</th><th scope=col>word_freq_make</th><th scope=col>word_freq_address</th><th scope=col>word_freq_all</th><th scope=col>word_freq_3d</th><th scope=col>word_freq_our</th><th scope=col>word_freq_over</th><th scope=col>word_freq_remove</th><th scope=col>word_freq_internet</th><th scope=col>word_freq_order</th><th scope=col>⋯</th><th scope=col>char_freq_semicolon</th><th scope=col>char_freq_bracket</th><th scope=col>char_freq_squarebracket</th><th scope=col>char_freq_exclamation</th><th scope=col>char_freq_dollar</th><th scope=col>char_freq_hashtag</th><th scope=col>capital_run_length_average</th><th scope=col>capital_run_length_longest</th><th scope=col>capital_run_length_total</th><th scope=col>spam_indicator</th></tr>\n",
       "\t<tr><th scope=col>&lt;int&gt;</th><th scope=col>&lt;dbl&gt;</th><th scope=col>&lt;dbl&gt;</th><th scope=col>&lt;dbl&gt;</th><th scope=col>&lt;dbl&gt;</th><th scope=col>&lt;dbl&gt;</th><th scope=col>&lt;dbl&gt;</th><th scope=col>&lt;dbl&gt;</th><th scope=col>&lt;dbl&gt;</th><th scope=col>&lt;dbl&gt;</th><th scope=col>⋯</th><th scope=col>&lt;dbl&gt;</th><th scope=col>&lt;dbl&gt;</th><th scope=col>&lt;dbl&gt;</th><th scope=col>&lt;dbl&gt;</th><th scope=col>&lt;dbl&gt;</th><th scope=col>&lt;dbl&gt;</th><th scope=col>&lt;dbl&gt;</th><th scope=col>&lt;dbl&gt;</th><th scope=col>&lt;dbl&gt;</th><th scope=col>&lt;fct&gt;</th></tr>\n",
       "</thead>\n",
       "<tbody>\n",
       "\t<tr><td>1814</td><td>0</td><td>0</td><td>0</td><td>0</td><td>0</td><td>0</td><td>0</td><td>0</td><td>0</td><td>⋯</td><td>0.022</td><td>0.022</td><td>0.019</td><td>0.022</td><td>0.022</td><td>0.022</td><td>3.482</td><td>5</td><td>5902</td><td>0</td></tr>\n",
       "\t<tr><td>1815</td><td>0</td><td>0</td><td>0</td><td>0</td><td>0</td><td>0</td><td>0</td><td>0</td><td>0</td><td>⋯</td><td>0.299</td><td>0.000</td><td>0.000</td><td>0.149</td><td>0.000</td><td>0.000</td><td>1.040</td><td>2</td><td>  26</td><td>0</td></tr>\n",
       "\t<tr><td>1816</td><td>0</td><td>0</td><td>0</td><td>0</td><td>0</td><td>0</td><td>0</td><td>0</td><td>0</td><td>⋯</td><td>0.000</td><td>0.000</td><td>0.000</td><td>0.000</td><td>0.000</td><td>0.000</td><td>1.000</td><td>1</td><td>   3</td><td>0</td></tr>\n",
       "\t<tr><td>⋮</td><td>⋮</td><td>⋮</td><td>⋮</td><td>⋮</td><td>⋮</td><td>⋮</td><td>⋮</td><td>⋮</td><td>⋮</td><td>⋱</td><td>⋮</td><td>⋮</td><td>⋮</td><td>⋮</td><td>⋮</td><td>⋮</td><td>⋮</td><td>⋮</td><td>⋮</td><td>⋮</td></tr>\n",
       "\t<tr><td>1811</td><td>0</td><td>0.00</td><td>0.77</td><td>0</td><td>0.38</td><td>0.38</td><td>0.38</td><td>0.00</td><td>0.00</td><td>⋯</td><td>0.063</td><td>0.127</td><td>0.255</td><td>0.510</td><td>0.000</td><td>0.000</td><td>3.685</td><td> 62</td><td> 258</td><td>1</td></tr>\n",
       "\t<tr><td>1812</td><td>0</td><td>0.00</td><td>0.00</td><td>0</td><td>0.53</td><td>0.00</td><td>0.53</td><td>0.00</td><td>0.53</td><td>⋯</td><td>0.000</td><td>0.000</td><td>0.000</td><td>0.082</td><td>0.000</td><td>0.000</td><td>4.391</td><td> 66</td><td> 101</td><td>1</td></tr>\n",
       "\t<tr><td>1813</td><td>0</td><td>0.31</td><td>0.42</td><td>0</td><td>0.00</td><td>0.10</td><td>0.00</td><td>0.52</td><td>0.21</td><td>⋯</td><td>0.000</td><td>0.016</td><td>0.000</td><td>0.887</td><td>0.032</td><td>0.049</td><td>3.446</td><td>318</td><td>1003</td><td>1</td></tr>\n",
       "</tbody>\n",
       "</table>\n"
      ],
      "text/latex": [
       "A tibble: 3450 × 59\n",
       "\\begin{tabular}{lllllllllllllllllllll}\n",
       " ID & word\\_freq\\_make & word\\_freq\\_address & word\\_freq\\_all & word\\_freq\\_3d & word\\_freq\\_our & word\\_freq\\_over & word\\_freq\\_remove & word\\_freq\\_internet & word\\_freq\\_order & ⋯ & char\\_freq\\_semicolon & char\\_freq\\_bracket & char\\_freq\\_squarebracket & char\\_freq\\_exclamation & char\\_freq\\_dollar & char\\_freq\\_hashtag & capital\\_run\\_length\\_average & capital\\_run\\_length\\_longest & capital\\_run\\_length\\_total & spam\\_indicator\\\\\n",
       " <int> & <dbl> & <dbl> & <dbl> & <dbl> & <dbl> & <dbl> & <dbl> & <dbl> & <dbl> & ⋯ & <dbl> & <dbl> & <dbl> & <dbl> & <dbl> & <dbl> & <dbl> & <dbl> & <dbl> & <fct>\\\\\n",
       "\\hline\n",
       "\t 1814 & 0 & 0 & 0 & 0 & 0 & 0 & 0 & 0 & 0 & ⋯ & 0.022 & 0.022 & 0.019 & 0.022 & 0.022 & 0.022 & 3.482 & 5 & 5902 & 0\\\\\n",
       "\t 1815 & 0 & 0 & 0 & 0 & 0 & 0 & 0 & 0 & 0 & ⋯ & 0.299 & 0.000 & 0.000 & 0.149 & 0.000 & 0.000 & 1.040 & 2 &   26 & 0\\\\\n",
       "\t 1816 & 0 & 0 & 0 & 0 & 0 & 0 & 0 & 0 & 0 & ⋯ & 0.000 & 0.000 & 0.000 & 0.000 & 0.000 & 0.000 & 1.000 & 1 &    3 & 0\\\\\n",
       "\t ⋮ & ⋮ & ⋮ & ⋮ & ⋮ & ⋮ & ⋮ & ⋮ & ⋮ & ⋮ & ⋱ & ⋮ & ⋮ & ⋮ & ⋮ & ⋮ & ⋮ & ⋮ & ⋮ & ⋮ & ⋮\\\\\n",
       "\t 1811 & 0 & 0.00 & 0.77 & 0 & 0.38 & 0.38 & 0.38 & 0.00 & 0.00 & ⋯ & 0.063 & 0.127 & 0.255 & 0.510 & 0.000 & 0.000 & 3.685 &  62 &  258 & 1\\\\\n",
       "\t 1812 & 0 & 0.00 & 0.00 & 0 & 0.53 & 0.00 & 0.53 & 0.00 & 0.53 & ⋯ & 0.000 & 0.000 & 0.000 & 0.082 & 0.000 & 0.000 & 4.391 &  66 &  101 & 1\\\\\n",
       "\t 1813 & 0 & 0.31 & 0.42 & 0 & 0.00 & 0.10 & 0.00 & 0.52 & 0.21 & ⋯ & 0.000 & 0.016 & 0.000 & 0.887 & 0.032 & 0.049 & 3.446 & 318 & 1003 & 1\\\\\n",
       "\\end{tabular}\n"
      ],
      "text/markdown": [
       "\n",
       "A tibble: 3450 × 59\n",
       "\n",
       "| ID &lt;int&gt; | word_freq_make &lt;dbl&gt; | word_freq_address &lt;dbl&gt; | word_freq_all &lt;dbl&gt; | word_freq_3d &lt;dbl&gt; | word_freq_our &lt;dbl&gt; | word_freq_over &lt;dbl&gt; | word_freq_remove &lt;dbl&gt; | word_freq_internet &lt;dbl&gt; | word_freq_order &lt;dbl&gt; | ⋯ ⋯ | char_freq_semicolon &lt;dbl&gt; | char_freq_bracket &lt;dbl&gt; | char_freq_squarebracket &lt;dbl&gt; | char_freq_exclamation &lt;dbl&gt; | char_freq_dollar &lt;dbl&gt; | char_freq_hashtag &lt;dbl&gt; | capital_run_length_average &lt;dbl&gt; | capital_run_length_longest &lt;dbl&gt; | capital_run_length_total &lt;dbl&gt; | spam_indicator &lt;fct&gt; |\n",
       "|---|---|---|---|---|---|---|---|---|---|---|---|---|---|---|---|---|---|---|---|---|\n",
       "| 1814 | 0 | 0 | 0 | 0 | 0 | 0 | 0 | 0 | 0 | ⋯ | 0.022 | 0.022 | 0.019 | 0.022 | 0.022 | 0.022 | 3.482 | 5 | 5902 | 0 |\n",
       "| 1815 | 0 | 0 | 0 | 0 | 0 | 0 | 0 | 0 | 0 | ⋯ | 0.299 | 0.000 | 0.000 | 0.149 | 0.000 | 0.000 | 1.040 | 2 |   26 | 0 |\n",
       "| 1816 | 0 | 0 | 0 | 0 | 0 | 0 | 0 | 0 | 0 | ⋯ | 0.000 | 0.000 | 0.000 | 0.000 | 0.000 | 0.000 | 1.000 | 1 |    3 | 0 |\n",
       "| ⋮ | ⋮ | ⋮ | ⋮ | ⋮ | ⋮ | ⋮ | ⋮ | ⋮ | ⋮ | ⋱ | ⋮ | ⋮ | ⋮ | ⋮ | ⋮ | ⋮ | ⋮ | ⋮ | ⋮ | ⋮ |\n",
       "| 1811 | 0 | 0.00 | 0.77 | 0 | 0.38 | 0.38 | 0.38 | 0.00 | 0.00 | ⋯ | 0.063 | 0.127 | 0.255 | 0.510 | 0.000 | 0.000 | 3.685 |  62 |  258 | 1 |\n",
       "| 1812 | 0 | 0.00 | 0.00 | 0 | 0.53 | 0.00 | 0.53 | 0.00 | 0.53 | ⋯ | 0.000 | 0.000 | 0.000 | 0.082 | 0.000 | 0.000 | 4.391 |  66 |  101 | 1 |\n",
       "| 1813 | 0 | 0.31 | 0.42 | 0 | 0.00 | 0.10 | 0.00 | 0.52 | 0.21 | ⋯ | 0.000 | 0.016 | 0.000 | 0.887 | 0.032 | 0.049 | 3.446 | 318 | 1003 | 1 |\n",
       "\n"
      ],
      "text/plain": [
       "     ID   word_freq_make word_freq_address word_freq_all word_freq_3d\n",
       "1    1814 0              0                 0             0           \n",
       "2    1815 0              0                 0             0           \n",
       "3    1816 0              0                 0             0           \n",
       "⋮    ⋮    ⋮              ⋮                 ⋮             ⋮           \n",
       "3448 1811 0              0.00              0.77          0           \n",
       "3449 1812 0              0.00              0.00          0           \n",
       "3450 1813 0              0.31              0.42          0           \n",
       "     word_freq_our word_freq_over word_freq_remove word_freq_internet\n",
       "1    0             0              0                0                 \n",
       "2    0             0              0                0                 \n",
       "3    0             0              0                0                 \n",
       "⋮    ⋮             ⋮              ⋮                ⋮                 \n",
       "3448 0.38          0.38           0.38             0.00              \n",
       "3449 0.53          0.00           0.53             0.00              \n",
       "3450 0.00          0.10           0.00             0.52              \n",
       "     word_freq_order ⋯ char_freq_semicolon char_freq_bracket\n",
       "1    0               ⋯ 0.022               0.022            \n",
       "2    0               ⋯ 0.299               0.000            \n",
       "3    0               ⋯ 0.000               0.000            \n",
       "⋮    ⋮               ⋱ ⋮                   ⋮                \n",
       "3448 0.00            ⋯ 0.063               0.127            \n",
       "3449 0.53            ⋯ 0.000               0.000            \n",
       "3450 0.21            ⋯ 0.000               0.016            \n",
       "     char_freq_squarebracket char_freq_exclamation char_freq_dollar\n",
       "1    0.019                   0.022                 0.022           \n",
       "2    0.000                   0.149                 0.000           \n",
       "3    0.000                   0.000                 0.000           \n",
       "⋮    ⋮                       ⋮                     ⋮               \n",
       "3448 0.255                   0.510                 0.000           \n",
       "3449 0.000                   0.082                 0.000           \n",
       "3450 0.000                   0.887                 0.032           \n",
       "     char_freq_hashtag capital_run_length_average capital_run_length_longest\n",
       "1    0.022             3.482                      5                         \n",
       "2    0.000             1.040                      2                         \n",
       "3    0.000             1.000                      1                         \n",
       "⋮    ⋮                 ⋮                          ⋮                         \n",
       "3448 0.000             3.685                       62                       \n",
       "3449 0.000             4.391                       66                       \n",
       "3450 0.049             3.446                      318                       \n",
       "     capital_run_length_total spam_indicator\n",
       "1    5902                     0             \n",
       "2      26                     0             \n",
       "3       3                     0             \n",
       "⋮    ⋮                        ⋮             \n",
       "3448  258                     1             \n",
       "3449  101                     1             \n",
       "3450 1003                     1             "
      ]
     },
     "metadata": {},
     "output_type": "display_data"
    }
   ],
   "source": [
    "data_train"
   ]
  },
  {
   "cell_type": "markdown",
   "id": "ef0eef3e-4be1-4d8b-b56f-3158be5ad656",
   "metadata": {},
   "source": [
    "                                        Figure 3.0 - Spambase Training Data"
   ]
  },
  {
   "cell_type": "markdown",
   "id": "02cc2e24",
   "metadata": {},
   "source": [
    "### 4. Exploratory Data Analysis using Training Dataset"
   ]
  },
  {
   "cell_type": "markdown",
   "id": "57fd752b",
   "metadata": {},
   "source": [
    "#### 4.1 Tables"
   ]
  },
  {
   "cell_type": "code",
   "execution_count": 8,
   "id": "5896bdc5-9849-40c7-9e4e-737152d9202f",
   "metadata": {},
   "outputs": [],
   "source": [
    "data_counts <- data_train %>%\n",
    "group_by(spam_indicator) %>%\n",
    "    summarize(count = n())\n",
    "   "
   ]
  },
  {
   "cell_type": "code",
   "execution_count": 9,
   "id": "f26dfb64-e3ae-42cd-bbf7-c43180915299",
   "metadata": {},
   "outputs": [
    {
     "data": {
      "text/html": [
       "<table class=\"dataframe\">\n",
       "<caption>A tibble: 2 × 2</caption>\n",
       "<thead>\n",
       "\t<tr><th scope=col>spam_indicator</th><th scope=col>count</th></tr>\n",
       "\t<tr><th scope=col>&lt;fct&gt;</th><th scope=col>&lt;int&gt;</th></tr>\n",
       "</thead>\n",
       "<tbody>\n",
       "\t<tr><td>0</td><td>2091</td></tr>\n",
       "\t<tr><td>1</td><td>1359</td></tr>\n",
       "</tbody>\n",
       "</table>\n"
      ],
      "text/latex": [
       "A tibble: 2 × 2\n",
       "\\begin{tabular}{ll}\n",
       " spam\\_indicator & count\\\\\n",
       " <fct> & <int>\\\\\n",
       "\\hline\n",
       "\t 0 & 2091\\\\\n",
       "\t 1 & 1359\\\\\n",
       "\\end{tabular}\n"
      ],
      "text/markdown": [
       "\n",
       "A tibble: 2 × 2\n",
       "\n",
       "| spam_indicator &lt;fct&gt; | count &lt;int&gt; |\n",
       "|---|---|\n",
       "| 0 | 2091 |\n",
       "| 1 | 1359 |\n",
       "\n"
      ],
      "text/plain": [
       "  spam_indicator count\n",
       "1 0              2091 \n",
       "2 1              1359 "
      ]
     },
     "metadata": {},
     "output_type": "display_data"
    }
   ],
   "source": [
    "data_counts"
   ]
  },
  {
   "cell_type": "markdown",
   "id": "d05dd2f0-d14e-4bc3-9ec7-9af9750252ed",
   "metadata": {},
   "source": [
    "     Figure 4.1.0 - Spam Distribution"
   ]
  },
  {
   "cell_type": "markdown",
   "id": "392feb33-766e-4a92-9964-1d26eab425b6",
   "metadata": {},
   "source": [
    "From this table (Figure 4.1.0), we can see that the training data has a good distribution of spam and non-spam emails. This indicates the original dataset was stratified, and that there are enough observations of both spam and non-spam to train our model.\n"
   ]
  },
  {
   "cell_type": "code",
   "execution_count": 10,
   "id": "7972a830-3945-43b1-82c1-ab351fdbd2fe",
   "metadata": {},
   "outputs": [],
   "source": [
    "data_train_mean <- data_train %>%\n",
    "    summarize(char_freq_exclamation_mean = mean(char_freq_exclamation),\n",
    "          char_freq_dollar_mean = mean(char_freq_dollar),\n",
    "          char_freq_hashtag_mean = mean(char_freq_hashtag),\n",
    "            char_freq_bracket_mean = mean(char_freq_bracket))"
   ]
  },
  {
   "cell_type": "code",
   "execution_count": 11,
   "id": "ea0c0f11-2e97-4d22-8196-86efc0045874",
   "metadata": {},
   "outputs": [
    {
     "data": {
      "text/html": [
       "<table class=\"dataframe\">\n",
       "<caption>A tibble: 1 × 4</caption>\n",
       "<thead>\n",
       "\t<tr><th scope=col>char_freq_exclamation_mean</th><th scope=col>char_freq_dollar_mean</th><th scope=col>char_freq_hashtag_mean</th><th scope=col>char_freq_bracket_mean</th></tr>\n",
       "\t<tr><th scope=col>&lt;dbl&gt;</th><th scope=col>&lt;dbl&gt;</th><th scope=col>&lt;dbl&gt;</th><th scope=col>&lt;dbl&gt;</th></tr>\n",
       "</thead>\n",
       "<tbody>\n",
       "\t<tr><td>0.2749861</td><td>0.07395942</td><td>0.04120406</td><td>0.1396745</td></tr>\n",
       "</tbody>\n",
       "</table>\n"
      ],
      "text/latex": [
       "A tibble: 1 × 4\n",
       "\\begin{tabular}{llll}\n",
       " char\\_freq\\_exclamation\\_mean & char\\_freq\\_dollar\\_mean & char\\_freq\\_hashtag\\_mean & char\\_freq\\_bracket\\_mean\\\\\n",
       " <dbl> & <dbl> & <dbl> & <dbl>\\\\\n",
       "\\hline\n",
       "\t 0.2749861 & 0.07395942 & 0.04120406 & 0.1396745\\\\\n",
       "\\end{tabular}\n"
      ],
      "text/markdown": [
       "\n",
       "A tibble: 1 × 4\n",
       "\n",
       "| char_freq_exclamation_mean &lt;dbl&gt; | char_freq_dollar_mean &lt;dbl&gt; | char_freq_hashtag_mean &lt;dbl&gt; | char_freq_bracket_mean &lt;dbl&gt; |\n",
       "|---|---|---|---|\n",
       "| 0.2749861 | 0.07395942 | 0.04120406 | 0.1396745 |\n",
       "\n"
      ],
      "text/plain": [
       "  char_freq_exclamation_mean char_freq_dollar_mean char_freq_hashtag_mean\n",
       "1 0.2749861                  0.07395942            0.04120406            \n",
       "  char_freq_bracket_mean\n",
       "1 0.1396745             "
      ]
     },
     "metadata": {},
     "output_type": "display_data"
    }
   ],
   "source": [
    "data_train_mean"
   ]
  },
  {
   "cell_type": "markdown",
   "id": "41161833-9d58-4073-91d6-4f9578880fa1",
   "metadata": {},
   "source": [
    "                             Figure 4.1.1 - Predictor Means"
   ]
  },
  {
   "cell_type": "markdown",
   "id": "95bad097-74d4-49e5-8ef5-9b68484eec44",
   "metadata": {},
   "source": [
    "From this table (Figure 4.1.1), we can see that the means are not well-centered and well-scaled, as the means are not within a similar range. This indicates that we must scale and center our data for future processing. "
   ]
  },
  {
   "cell_type": "code",
   "execution_count": 12,
   "id": "09bf0467-89fb-45b4-a3d9-cedff5f7e8ec",
   "metadata": {},
   "outputs": [],
   "source": [
    "data_train_max <- data_train %>% \n",
    "    summarize(char_freq_exclamation_max = max(char_freq_exclamation),\n",
    "          char_freq_dollar_max = max(char_freq_dollar),\n",
    "          char_freq_hashtag_max = max(char_freq_hashtag),\n",
    "              char_freq_bracket_max = max(char_freq_bracket))\n",
    "\n",
    "\n",
    "data_train_min <- data_train %>%\n",
    "    summarize(char_freq_exclamation_min = min(char_freq_exclamation),\n",
    "          char_freq_dollar_min = min(char_freq_dollar),\n",
    "          char_freq_hashtag_min = min(char_freq_hashtag),\n",
    "              char_freq_bracket_min = min(char_freq_bracket))"
   ]
  },
  {
   "cell_type": "code",
   "execution_count": 13,
   "id": "7706bbe6-a0f4-4be9-ae99-077d5e590640",
   "metadata": {},
   "outputs": [
    {
     "data": {
      "text/html": [
       "<table class=\"dataframe\">\n",
       "<caption>A tibble: 1 × 4</caption>\n",
       "<thead>\n",
       "\t<tr><th scope=col>char_freq_exclamation_max</th><th scope=col>char_freq_dollar_max</th><th scope=col>char_freq_hashtag_max</th><th scope=col>char_freq_bracket_max</th></tr>\n",
       "\t<tr><th scope=col>&lt;dbl&gt;</th><th scope=col>&lt;dbl&gt;</th><th scope=col>&lt;dbl&gt;</th><th scope=col>&lt;dbl&gt;</th></tr>\n",
       "</thead>\n",
       "<tbody>\n",
       "\t<tr><td>32.478</td><td>5.3</td><td>19.829</td><td>9.752</td></tr>\n",
       "</tbody>\n",
       "</table>\n"
      ],
      "text/latex": [
       "A tibble: 1 × 4\n",
       "\\begin{tabular}{llll}\n",
       " char\\_freq\\_exclamation\\_max & char\\_freq\\_dollar\\_max & char\\_freq\\_hashtag\\_max & char\\_freq\\_bracket\\_max\\\\\n",
       " <dbl> & <dbl> & <dbl> & <dbl>\\\\\n",
       "\\hline\n",
       "\t 32.478 & 5.3 & 19.829 & 9.752\\\\\n",
       "\\end{tabular}\n"
      ],
      "text/markdown": [
       "\n",
       "A tibble: 1 × 4\n",
       "\n",
       "| char_freq_exclamation_max &lt;dbl&gt; | char_freq_dollar_max &lt;dbl&gt; | char_freq_hashtag_max &lt;dbl&gt; | char_freq_bracket_max &lt;dbl&gt; |\n",
       "|---|---|---|---|\n",
       "| 32.478 | 5.3 | 19.829 | 9.752 |\n",
       "\n"
      ],
      "text/plain": [
       "  char_freq_exclamation_max char_freq_dollar_max char_freq_hashtag_max\n",
       "1 32.478                    5.3                  19.829               \n",
       "  char_freq_bracket_max\n",
       "1 9.752                "
      ]
     },
     "metadata": {},
     "output_type": "display_data"
    }
   ],
   "source": [
    "data_train_max"
   ]
  },
  {
   "cell_type": "markdown",
   "id": "c4a7f969-fd0b-407f-8129-2b5859e493ae",
   "metadata": {},
   "source": [
    "                            Figure 4.1.2 - Predictor Maximums"
   ]
  },
  {
   "cell_type": "code",
   "execution_count": 14,
   "id": "7fc42426-1605-4ff1-86a8-f1ff9808914d",
   "metadata": {},
   "outputs": [
    {
     "data": {
      "text/html": [
       "<table class=\"dataframe\">\n",
       "<caption>A tibble: 1 × 4</caption>\n",
       "<thead>\n",
       "\t<tr><th scope=col>char_freq_exclamation_min</th><th scope=col>char_freq_dollar_min</th><th scope=col>char_freq_hashtag_min</th><th scope=col>char_freq_bracket_min</th></tr>\n",
       "\t<tr><th scope=col>&lt;dbl&gt;</th><th scope=col>&lt;dbl&gt;</th><th scope=col>&lt;dbl&gt;</th><th scope=col>&lt;dbl&gt;</th></tr>\n",
       "</thead>\n",
       "<tbody>\n",
       "\t<tr><td>0</td><td>0</td><td>0</td><td>0</td></tr>\n",
       "</tbody>\n",
       "</table>\n"
      ],
      "text/latex": [
       "A tibble: 1 × 4\n",
       "\\begin{tabular}{llll}\n",
       " char\\_freq\\_exclamation\\_min & char\\_freq\\_dollar\\_min & char\\_freq\\_hashtag\\_min & char\\_freq\\_bracket\\_min\\\\\n",
       " <dbl> & <dbl> & <dbl> & <dbl>\\\\\n",
       "\\hline\n",
       "\t 0 & 0 & 0 & 0\\\\\n",
       "\\end{tabular}\n"
      ],
      "text/markdown": [
       "\n",
       "A tibble: 1 × 4\n",
       "\n",
       "| char_freq_exclamation_min &lt;dbl&gt; | char_freq_dollar_min &lt;dbl&gt; | char_freq_hashtag_min &lt;dbl&gt; | char_freq_bracket_min &lt;dbl&gt; |\n",
       "|---|---|---|---|\n",
       "| 0 | 0 | 0 | 0 |\n",
       "\n"
      ],
      "text/plain": [
       "  char_freq_exclamation_min char_freq_dollar_min char_freq_hashtag_min\n",
       "1 0                         0                    0                    \n",
       "  char_freq_bracket_min\n",
       "1 0                    "
      ]
     },
     "metadata": {},
     "output_type": "display_data"
    }
   ],
   "source": [
    "data_train_min"
   ]
  },
  {
   "cell_type": "markdown",
   "id": "ca97a2a5-2359-4716-a04b-752eddefb05e",
   "metadata": {},
   "source": [
    "                             Figure 4.1.3 - Predictor Minimums"
   ]
  },
  {
   "cell_type": "markdown",
   "id": "aca0b5e8-bc53-4e2b-9435-f5fe5b67e02e",
   "metadata": {},
   "source": [
    "From these two tables (Figure 4.1.2 and Figure 4.1.3), we can see that the observations are not well scaled, as the maximum values fall within a large scale. This indicates that we should scale our data for future processing, as there are differing ranges between the variables."
   ]
  },
  {
   "cell_type": "markdown",
   "id": "fba800be",
   "metadata": {},
   "source": [
    "#### 4.2 Data visualization (scatter plot)"
   ]
  },
  {
   "cell_type": "code",
   "execution_count": 15,
   "id": "adc75de5",
   "metadata": {},
   "outputs": [],
   "source": [
    "train_plot <- ggpairs(data_train, columns = 50:55, \n",
    "                      title = \"Figure 4.2 Exploratory data analysis using selected predictors\",\n",
    "                      ggplot2::aes(colour=spam_indicator)) +\n",
    "                        theme(text = element_text(size=20))\n",
    "options(repr.plot.width = 10, repr.plot.height = 9)"
   ]
  },
  {
   "cell_type": "code",
   "execution_count": 16,
   "id": "ab9539fc-30d7-4ee3-a2f0-180d71a05571",
   "metadata": {},
   "outputs": [
    {
     "data": {
      "image/png": "[encoded data removed]",
      "text/plain": [
       "plot without title"
      ]
     },
     "metadata": {
      "image/png": {
       "height": 540,
       "width": 600
      }
     },
     "output_type": "display_data"
    }
   ],
   "source": [
    "train_plot"
   ]
  },
  {
   "cell_type": "markdown",
   "id": "d2b6bba3-5bd0-4455-979c-1750f0cab4a9",
   "metadata": {},
   "source": [
    "                     Figure 4.2 - Pairwise Plot Matrix"
   ]
  },
  {
   "cell_type": "markdown",
   "id": "fe144fa9",
   "metadata": {
    "tags": []
   },
   "source": [
    "## Methods"
   ]
  },
  {
   "cell_type": "markdown",
   "id": "afa489b4",
   "metadata": {},
   "source": [
    "We are using **forward selection** to determine the most accurate attributes to detect spam emails. \n",
    "\n",
    "After forward selection, our predictor variables are `char_freq_exclamation`, `char_freq_bracket`, `char_freq_dollar`.`spam_indicator` is the class label. It denotes whether the email is spam (1) or not-spam (0). "
   ]
  },
  {
   "cell_type": "markdown",
   "id": "b2dce9ac",
   "metadata": {
    "tags": []
   },
   "source": [
    "### 5. Choosing our Predictors with Forward Selection"
   ]
  },
  {
   "cell_type": "markdown",
   "id": "2fc67fbe",
   "metadata": {},
   "source": [
    "#### 5.1 Preparations\n",
    "A tibble is created to store our results to proceed with forward selection. We created our model specificiation for this project. We will be using this same model for the rest of the project.The 5-fold cross-validation object is created."
   ]
  },
  {
   "cell_type": "code",
   "execution_count": 17,
   "id": "2703275b-4651-4219-8d4d-a69a82782f79",
   "metadata": {},
   "outputs": [
    {
     "data": {
      "text/html": [
       "<table class=\"dataframe\">\n",
       "<caption>A tibble: 3450 × 7</caption>\n",
       "<thead>\n",
       "\t<tr><th scope=col>char_freq_semicolon</th><th scope=col>char_freq_bracket</th><th scope=col>char_freq_squarebracket</th><th scope=col>char_freq_exclamation</th><th scope=col>char_freq_dollar</th><th scope=col>char_freq_hashtag</th><th scope=col>spam_indicator</th></tr>\n",
       "\t<tr><th scope=col>&lt;dbl&gt;</th><th scope=col>&lt;dbl&gt;</th><th scope=col>&lt;dbl&gt;</th><th scope=col>&lt;dbl&gt;</th><th scope=col>&lt;dbl&gt;</th><th scope=col>&lt;dbl&gt;</th><th scope=col>&lt;fct&gt;</th></tr>\n",
       "</thead>\n",
       "<tbody>\n",
       "\t<tr><td>0.022</td><td>0.022</td><td>0.019</td><td>0.022</td><td>0.022</td><td>0.022</td><td>0</td></tr>\n",
       "\t<tr><td>0.299</td><td>0.000</td><td>0.000</td><td>0.149</td><td>0.000</td><td>0.000</td><td>0</td></tr>\n",
       "\t<tr><td>0.000</td><td>0.000</td><td>0.000</td><td>0.000</td><td>0.000</td><td>0.000</td><td>0</td></tr>\n",
       "\t<tr><td>⋮</td><td>⋮</td><td>⋮</td><td>⋮</td><td>⋮</td><td>⋮</td><td>⋮</td></tr>\n",
       "\t<tr><td>0.063</td><td>0.127</td><td>0.255</td><td>0.510</td><td>0.000</td><td>0.000</td><td>1</td></tr>\n",
       "\t<tr><td>0.000</td><td>0.000</td><td>0.000</td><td>0.082</td><td>0.000</td><td>0.000</td><td>1</td></tr>\n",
       "\t<tr><td>0.000</td><td>0.016</td><td>0.000</td><td>0.887</td><td>0.032</td><td>0.049</td><td>1</td></tr>\n",
       "</tbody>\n",
       "</table>\n"
      ],
      "text/latex": [
       "A tibble: 3450 × 7\n",
       "\\begin{tabular}{lllllll}\n",
       " char\\_freq\\_semicolon & char\\_freq\\_bracket & char\\_freq\\_squarebracket & char\\_freq\\_exclamation & char\\_freq\\_dollar & char\\_freq\\_hashtag & spam\\_indicator\\\\\n",
       " <dbl> & <dbl> & <dbl> & <dbl> & <dbl> & <dbl> & <fct>\\\\\n",
       "\\hline\n",
       "\t 0.022 & 0.022 & 0.019 & 0.022 & 0.022 & 0.022 & 0\\\\\n",
       "\t 0.299 & 0.000 & 0.000 & 0.149 & 0.000 & 0.000 & 0\\\\\n",
       "\t 0.000 & 0.000 & 0.000 & 0.000 & 0.000 & 0.000 & 0\\\\\n",
       "\t ⋮ & ⋮ & ⋮ & ⋮ & ⋮ & ⋮ & ⋮\\\\\n",
       "\t 0.063 & 0.127 & 0.255 & 0.510 & 0.000 & 0.000 & 1\\\\\n",
       "\t 0.000 & 0.000 & 0.000 & 0.082 & 0.000 & 0.000 & 1\\\\\n",
       "\t 0.000 & 0.016 & 0.000 & 0.887 & 0.032 & 0.049 & 1\\\\\n",
       "\\end{tabular}\n"
      ],
      "text/markdown": [
       "\n",
       "A tibble: 3450 × 7\n",
       "\n",
       "| char_freq_semicolon &lt;dbl&gt; | char_freq_bracket &lt;dbl&gt; | char_freq_squarebracket &lt;dbl&gt; | char_freq_exclamation &lt;dbl&gt; | char_freq_dollar &lt;dbl&gt; | char_freq_hashtag &lt;dbl&gt; | spam_indicator &lt;fct&gt; |\n",
       "|---|---|---|---|---|---|---|\n",
       "| 0.022 | 0.022 | 0.019 | 0.022 | 0.022 | 0.022 | 0 |\n",
       "| 0.299 | 0.000 | 0.000 | 0.149 | 0.000 | 0.000 | 0 |\n",
       "| 0.000 | 0.000 | 0.000 | 0.000 | 0.000 | 0.000 | 0 |\n",
       "| ⋮ | ⋮ | ⋮ | ⋮ | ⋮ | ⋮ | ⋮ |\n",
       "| 0.063 | 0.127 | 0.255 | 0.510 | 0.000 | 0.000 | 1 |\n",
       "| 0.000 | 0.000 | 0.000 | 0.082 | 0.000 | 0.000 | 1 |\n",
       "| 0.000 | 0.016 | 0.000 | 0.887 | 0.032 | 0.049 | 1 |\n",
       "\n"
      ],
      "text/plain": [
       "     char_freq_semicolon char_freq_bracket char_freq_squarebracket\n",
       "1    0.022               0.022             0.019                  \n",
       "2    0.299               0.000             0.000                  \n",
       "3    0.000               0.000             0.000                  \n",
       "⋮    ⋮                   ⋮                 ⋮                      \n",
       "3448 0.063               0.127             0.255                  \n",
       "3449 0.000               0.000             0.000                  \n",
       "3450 0.000               0.016             0.000                  \n",
       "     char_freq_exclamation char_freq_dollar char_freq_hashtag spam_indicator\n",
       "1    0.022                 0.022            0.022             0             \n",
       "2    0.149                 0.000            0.000             0             \n",
       "3    0.000                 0.000            0.000             0             \n",
       "⋮    ⋮                     ⋮                ⋮                 ⋮             \n",
       "3448 0.510                 0.000            0.000             1             \n",
       "3449 0.082                 0.000            0.000             1             \n",
       "3450 0.887                 0.032            0.049             1             "
      ]
     },
     "metadata": {},
     "output_type": "display_data"
    }
   ],
   "source": [
    "set.seed(6666)\n",
    "\n",
    "# extract names for our predict values\n",
    "data_subset <- data_train |>\n",
    "  select(\"char_freq_semicolon\", \"char_freq_bracket\", \"char_freq_squarebracket\", \"char_freq_exclamation\", \n",
    "        \"char_freq_dollar\", \"char_freq_hashtag\", \"spam_indicator\")\n",
    "data_subset\n",
    "\n",
    "names <- colnames(data_subset |> select(-spam_indicator))\n",
    "\n",
    "# create an empty tibble to store the results\n",
    "accuracies <- tibble(size = integer(), \n",
    "                     model_string = character(), \n",
    "                     accuracy = numeric())\n",
    "\n",
    "# create a model specification\n",
    "data_spec <- nearest_neighbor(weight_func = \"rectangular\", \n",
    "                             neighbors = tune()) |>\n",
    "     set_engine(\"kknn\") |>\n",
    "     set_mode(\"classification\")\n",
    "\n",
    "# create a 5-fold cross-validation object\n",
    "data_vfold <- vfold_cv(data_subset, v = 5, strata = spam_indicator)\n",
    "\n",
    "# store the total number of predictors\n",
    "n_total <- length(names)\n",
    "\n",
    "# stores selected predictors\n",
    "selected <- c()"
   ]
  },
  {
   "cell_type": "markdown",
   "id": "e20320f6-527b-445d-a853-b5a1f1b315c0",
   "metadata": {},
   "source": [
    "                                Figure 5.1 - Forward Selection Variables"
   ]
  },
  {
   "cell_type": "markdown",
   "id": "ae9c34b2",
   "metadata": {},
   "source": [
    "#### 5.2 Forward Selection Results\n",
    "\n",
    "Referring to Figure 5.2, we can conclude which predictor variables we will use. From the forward selection results, we have selected`char_freq_exclamation`,  `char_freq_dollar`, `char_freq_bracket` as the most accurate predictors as they have a combined accuracy of ~85%. While other combinations may have higher accuracies (ie. `char_freq_exclamation`+ `char_freq_dollar` + `char_freq_bracket` + `char_freq_hashtag` + `char_freq_semicolon`), there is only a minor increase in accuracy despite the complexity needed to introduce another predictor variable. Therefore, we select `char_freq_exclamation`,  `char_freq_dollar`, and `char_freq_bracket` as our predictor variables moving forward."
   ]
  },
  {
   "cell_type": "code",
   "execution_count": 18,
   "id": "578e41cb",
   "metadata": {},
   "outputs": [
    {
     "data": {
      "text/html": [
       "<table class=\"dataframe\">\n",
       "<caption>A tibble: 6 × 3</caption>\n",
       "<thead>\n",
       "\t<tr><th scope=col>size</th><th scope=col>model_string</th><th scope=col>accuracy</th></tr>\n",
       "\t<tr><th scope=col>&lt;int&gt;</th><th scope=col>&lt;chr&gt;</th><th scope=col>&lt;dbl&gt;</th></tr>\n",
       "</thead>\n",
       "<tbody>\n",
       "\t<tr><td>1</td><td>spam_indicator ~ char_freq_exclamation                                                                                                 </td><td>0.7860842</td></tr>\n",
       "\t<tr><td>2</td><td>spam_indicator ~ char_freq_exclamation+char_freq_dollar                                                                                </td><td>0.8431883</td></tr>\n",
       "\t<tr><td>3</td><td>spam_indicator ~ char_freq_exclamation+char_freq_dollar+char_freq_bracket                                                              </td><td>0.8507258</td></tr>\n",
       "\t<tr><td>4</td><td>spam_indicator ~ char_freq_exclamation+char_freq_dollar+char_freq_bracket+char_freq_hashtag                                            </td><td>0.8542049</td></tr>\n",
       "\t<tr><td>5</td><td>spam_indicator ~ char_freq_exclamation+char_freq_dollar+char_freq_bracket+char_freq_hashtag+char_freq_semicolon                        </td><td>0.8547812</td></tr>\n",
       "\t<tr><td>6</td><td>spam_indicator ~ char_freq_exclamation+char_freq_dollar+char_freq_bracket+char_freq_hashtag+char_freq_semicolon+char_freq_squarebracket</td><td>0.8533324</td></tr>\n",
       "</tbody>\n",
       "</table>\n"
      ],
      "text/latex": [
       "A tibble: 6 × 3\n",
       "\\begin{tabular}{lll}\n",
       " size & model\\_string & accuracy\\\\\n",
       " <int> & <chr> & <dbl>\\\\\n",
       "\\hline\n",
       "\t 1 & spam\\_indicator \\textasciitilde{} char\\_freq\\_exclamation                                                                                                  & 0.7860842\\\\\n",
       "\t 2 & spam\\_indicator \\textasciitilde{} char\\_freq\\_exclamation+char\\_freq\\_dollar                                                                                 & 0.8431883\\\\\n",
       "\t 3 & spam\\_indicator \\textasciitilde{} char\\_freq\\_exclamation+char\\_freq\\_dollar+char\\_freq\\_bracket                                                               & 0.8507258\\\\\n",
       "\t 4 & spam\\_indicator \\textasciitilde{} char\\_freq\\_exclamation+char\\_freq\\_dollar+char\\_freq\\_bracket+char\\_freq\\_hashtag                                             & 0.8542049\\\\\n",
       "\t 5 & spam\\_indicator \\textasciitilde{} char\\_freq\\_exclamation+char\\_freq\\_dollar+char\\_freq\\_bracket+char\\_freq\\_hashtag+char\\_freq\\_semicolon                         & 0.8547812\\\\\n",
       "\t 6 & spam\\_indicator \\textasciitilde{} char\\_freq\\_exclamation+char\\_freq\\_dollar+char\\_freq\\_bracket+char\\_freq\\_hashtag+char\\_freq\\_semicolon+char\\_freq\\_squarebracket & 0.8533324\\\\\n",
       "\\end{tabular}\n"
      ],
      "text/markdown": [
       "\n",
       "A tibble: 6 × 3\n",
       "\n",
       "| size &lt;int&gt; | model_string &lt;chr&gt; | accuracy &lt;dbl&gt; |\n",
       "|---|---|---|\n",
       "| 1 | spam_indicator ~ char_freq_exclamation                                                                                                  | 0.7860842 |\n",
       "| 2 | spam_indicator ~ char_freq_exclamation+char_freq_dollar                                                                                 | 0.8431883 |\n",
       "| 3 | spam_indicator ~ char_freq_exclamation+char_freq_dollar+char_freq_bracket                                                               | 0.8507258 |\n",
       "| 4 | spam_indicator ~ char_freq_exclamation+char_freq_dollar+char_freq_bracket+char_freq_hashtag                                             | 0.8542049 |\n",
       "| 5 | spam_indicator ~ char_freq_exclamation+char_freq_dollar+char_freq_bracket+char_freq_hashtag+char_freq_semicolon                         | 0.8547812 |\n",
       "| 6 | spam_indicator ~ char_freq_exclamation+char_freq_dollar+char_freq_bracket+char_freq_hashtag+char_freq_semicolon+char_freq_squarebracket | 0.8533324 |\n",
       "\n"
      ],
      "text/plain": [
       "  size\n",
       "1 1   \n",
       "2 2   \n",
       "3 3   \n",
       "4 4   \n",
       "5 5   \n",
       "6 6   \n",
       "  model_string                                                                                                                           \n",
       "1 spam_indicator ~ char_freq_exclamation                                                                                                 \n",
       "2 spam_indicator ~ char_freq_exclamation+char_freq_dollar                                                                                \n",
       "3 spam_indicator ~ char_freq_exclamation+char_freq_dollar+char_freq_bracket                                                              \n",
       "4 spam_indicator ~ char_freq_exclamation+char_freq_dollar+char_freq_bracket+char_freq_hashtag                                            \n",
       "5 spam_indicator ~ char_freq_exclamation+char_freq_dollar+char_freq_bracket+char_freq_hashtag+char_freq_semicolon                        \n",
       "6 spam_indicator ~ char_freq_exclamation+char_freq_dollar+char_freq_bracket+char_freq_hashtag+char_freq_semicolon+char_freq_squarebracket\n",
       "  accuracy \n",
       "1 0.7860842\n",
       "2 0.8431883\n",
       "3 0.8507258\n",
       "4 0.8542049\n",
       "5 0.8547812\n",
       "6 0.8533324"
      ]
     },
     "metadata": {},
     "output_type": "display_data"
    }
   ],
   "source": [
    "set.seed(6666)\n",
    "# for every size from 1 to the total number of predictors\n",
    "for (i in 1:n_total) {\n",
    "    # for every predictor still not added yet\n",
    "    accs <- list()\n",
    "    models <- list()\n",
    "    for (j in 1:length(names)) {\n",
    "        # create a model string for this combination of predictors\n",
    "        preds_new <- c(selected, names[[j]])\n",
    "        model_string <- paste(\"spam_indicator\", \"~\", paste(preds_new, collapse=\"+\"))\n",
    "\n",
    "        # create a recipe from the model string\n",
    "        data_recipe <- recipe(as.formula(model_string), \n",
    "                                data = data_subset) |>\n",
    "                          step_scale(all_predictors()) |>\n",
    "                          step_center(all_predictors())\n",
    "\n",
    "        # tune the KNN classifier with these predictors, \n",
    "        # and collect the accuracy for the best K\n",
    "        acc <- workflow() |>\n",
    "          add_recipe(data_recipe) |>\n",
    "          add_model(data_spec) |>\n",
    "          tune_grid(resamples = data_vfold, grid = 10) |>\n",
    "          collect_metrics() |>\n",
    "          filter(.metric == \"accuracy\") |>\n",
    "          summarize(mx = max(mean))\n",
    "        acc <- acc$mx |> unlist()\n",
    "\n",
    "        # add this result to the dataframe\n",
    "        accs[[j]] <- acc\n",
    "        models[[j]] <- model_string\n",
    "    }\n",
    "    jstar <- which.max(unlist(accs))\n",
    "    accuracies <- accuracies |> \n",
    "      add_row(size = i, \n",
    "              model_string = models[[jstar]], \n",
    "              accuracy = accs[[jstar]])\n",
    "    selected <- c(selected, names[[jstar]])\n",
    "    names <- names[-jstar]\n",
    "}\n",
    "accuracies"
   ]
  },
  {
   "cell_type": "markdown",
   "id": "2a734805-2043-452f-902a-0b2a89c7e5e2",
   "metadata": {},
   "source": [
    "                                    Figure 5.2 - Forward Selection Results"
   ]
  },
  {
   "cell_type": "markdown",
   "id": "afbb6a72",
   "metadata": {},
   "source": [
    "### 6. Data Analysis "
   ]
  },
  {
   "cell_type": "markdown",
   "id": "5d4aa33d-c43d-4d6d-b9db-9b123540c0ba",
   "metadata": {},
   "source": [
    "Now, we will find the best K-nearest neighbor value using our three selected values `char_freq_exclamation`,  `char_freq_dollar`, `char_freq_bracket`. Afterwards, we will tune our model using **k = 11**,  fit our model to training data set using `fit()`, train using our `data_train`, and then predict using our `data_test`. Finally we will use `collect.metrics()` to determine the accuracy of our model. "
   ]
  },
  {
   "cell_type": "code",
   "execution_count": 18,
   "id": "56cfacf1",
   "metadata": {},
   "outputs": [],
   "source": [
    "set.seed(6666)\n",
    "\n",
    "spam_vfold <- vfold_cv(data_train, v=5, strata = spam_indicator)\n",
    "\n",
    "spam_tune <- nearest_neighbor(weight_func = \"rectangular\", neighbors = tune()) |>\n",
    "    set_engine(\"kknn\") |>\n",
    "    set_mode(\"classification\")\n",
    "\n",
    "spam_recipe <- recipe(spam_indicator ~ char_freq_exclamation + char_freq_dollar + char_freq_bracket, data= data_train) |>\n",
    "            step_scale(all_predictors()) |>\n",
    "            step_center(all_predictors()) |>\n",
    "            prep()\n",
    "\n",
    "spam_fit <- workflow() |>\n",
    "        add_recipe(spam_recipe) |>\n",
    "        add_model(spam_tune) |>\n",
    "        tune_grid(resamples = spam_vfold, grid =10) |>\n",
    "        collect_metrics()\n",
    "\n",
    "accuracies <- spam_fit |>\n",
    "    filter(.metric == \"accuracy\") |>\n",
    "    arrange(-mean)\n",
    "\n",
    "best_k <- accuracies |>\n",
    "            slice(1)"
   ]
  },
  {
   "cell_type": "code",
   "execution_count": 19,
   "id": "7528b98b-e130-46ec-87be-a55e44e39925",
   "metadata": {},
   "outputs": [
    {
     "data": {
      "text/html": [
       "<table class=\"dataframe\">\n",
       "<caption>A tibble: 9 × 7</caption>\n",
       "<thead>\n",
       "\t<tr><th scope=col>neighbors</th><th scope=col>.metric</th><th scope=col>.estimator</th><th scope=col>mean</th><th scope=col>n</th><th scope=col>std_err</th><th scope=col>.config</th></tr>\n",
       "\t<tr><th scope=col>&lt;int&gt;</th><th scope=col>&lt;chr&gt;</th><th scope=col>&lt;chr&gt;</th><th scope=col>&lt;dbl&gt;</th><th scope=col>&lt;int&gt;</th><th scope=col>&lt;dbl&gt;</th><th scope=col>&lt;chr&gt;</th></tr>\n",
       "</thead>\n",
       "<tbody>\n",
       "\t<tr><td>11</td><td>accuracy</td><td>binary</td><td>0.8507258</td><td>5</td><td>0.007648496</td><td>Preprocessor1_Model7</td></tr>\n",
       "\t<tr><td>13</td><td>accuracy</td><td>binary</td><td>0.8486964</td><td>5</td><td>0.007492673</td><td>Preprocessor1_Model8</td></tr>\n",
       "\t<tr><td> 7</td><td>accuracy</td><td>binary</td><td>0.8484073</td><td>5</td><td>0.006215646</td><td>Preprocessor1_Model4</td></tr>\n",
       "\t<tr><td>⋮</td><td>⋮</td><td>⋮</td><td>⋮</td><td>⋮</td><td>⋮</td><td>⋮</td></tr>\n",
       "\t<tr><td>5</td><td>accuracy</td><td>binary</td><td>0.8426107</td><td>5</td><td>0.004092964</td><td>Preprocessor1_Model2</td></tr>\n",
       "\t<tr><td>6</td><td>accuracy</td><td>binary</td><td>0.8423216</td><td>5</td><td>0.004587400</td><td>Preprocessor1_Model3</td></tr>\n",
       "\t<tr><td>2</td><td>accuracy</td><td>binary</td><td>0.8229064</td><td>5</td><td>0.004894405</td><td>Preprocessor1_Model1</td></tr>\n",
       "</tbody>\n",
       "</table>\n"
      ],
      "text/latex": [
       "A tibble: 9 × 7\n",
       "\\begin{tabular}{lllllll}\n",
       " neighbors & .metric & .estimator & mean & n & std\\_err & .config\\\\\n",
       " <int> & <chr> & <chr> & <dbl> & <int> & <dbl> & <chr>\\\\\n",
       "\\hline\n",
       "\t 11 & accuracy & binary & 0.8507258 & 5 & 0.007648496 & Preprocessor1\\_Model7\\\\\n",
       "\t 13 & accuracy & binary & 0.8486964 & 5 & 0.007492673 & Preprocessor1\\_Model8\\\\\n",
       "\t  7 & accuracy & binary & 0.8484073 & 5 & 0.006215646 & Preprocessor1\\_Model4\\\\\n",
       "\t ⋮ & ⋮ & ⋮ & ⋮ & ⋮ & ⋮ & ⋮\\\\\n",
       "\t 5 & accuracy & binary & 0.8426107 & 5 & 0.004092964 & Preprocessor1\\_Model2\\\\\n",
       "\t 6 & accuracy & binary & 0.8423216 & 5 & 0.004587400 & Preprocessor1\\_Model3\\\\\n",
       "\t 2 & accuracy & binary & 0.8229064 & 5 & 0.004894405 & Preprocessor1\\_Model1\\\\\n",
       "\\end{tabular}\n"
      ],
      "text/markdown": [
       "\n",
       "A tibble: 9 × 7\n",
       "\n",
       "| neighbors &lt;int&gt; | .metric &lt;chr&gt; | .estimator &lt;chr&gt; | mean &lt;dbl&gt; | n &lt;int&gt; | std_err &lt;dbl&gt; | .config &lt;chr&gt; |\n",
       "|---|---|---|---|---|---|---|\n",
       "| 11 | accuracy | binary | 0.8507258 | 5 | 0.007648496 | Preprocessor1_Model7 |\n",
       "| 13 | accuracy | binary | 0.8486964 | 5 | 0.007492673 | Preprocessor1_Model8 |\n",
       "|  7 | accuracy | binary | 0.8484073 | 5 | 0.006215646 | Preprocessor1_Model4 |\n",
       "| ⋮ | ⋮ | ⋮ | ⋮ | ⋮ | ⋮ | ⋮ |\n",
       "| 5 | accuracy | binary | 0.8426107 | 5 | 0.004092964 | Preprocessor1_Model2 |\n",
       "| 6 | accuracy | binary | 0.8423216 | 5 | 0.004587400 | Preprocessor1_Model3 |\n",
       "| 2 | accuracy | binary | 0.8229064 | 5 | 0.004894405 | Preprocessor1_Model1 |\n",
       "\n"
      ],
      "text/plain": [
       "  neighbors .metric  .estimator mean      n std_err     .config             \n",
       "1 11        accuracy binary     0.8507258 5 0.007648496 Preprocessor1_Model7\n",
       "2 13        accuracy binary     0.8486964 5 0.007492673 Preprocessor1_Model8\n",
       "3  7        accuracy binary     0.8484073 5 0.006215646 Preprocessor1_Model4\n",
       "⋮ ⋮         ⋮        ⋮          ⋮         ⋮ ⋮           ⋮                   \n",
       "7 5         accuracy binary     0.8426107 5 0.004092964 Preprocessor1_Model2\n",
       "8 6         accuracy binary     0.8423216 5 0.004587400 Preprocessor1_Model3\n",
       "9 2         accuracy binary     0.8229064 5 0.004894405 Preprocessor1_Model1"
      ]
     },
     "metadata": {},
     "output_type": "display_data"
    }
   ],
   "source": [
    "accuracies"
   ]
  },
  {
   "cell_type": "markdown",
   "id": "401ab669-9cfb-4877-a552-df7780cc7d44",
   "metadata": {},
   "source": [
    "                              Figure 6.0.0 - K Accuracies "
   ]
  },
  {
   "cell_type": "code",
   "execution_count": 20,
   "id": "19c900d4-7e10-4ca0-904b-1635090c3b0c",
   "metadata": {},
   "outputs": [
    {
     "data": {
      "text/html": [
       "<table class=\"dataframe\">\n",
       "<caption>A tibble: 1 × 7</caption>\n",
       "<thead>\n",
       "\t<tr><th scope=col>neighbors</th><th scope=col>.metric</th><th scope=col>.estimator</th><th scope=col>mean</th><th scope=col>n</th><th scope=col>std_err</th><th scope=col>.config</th></tr>\n",
       "\t<tr><th scope=col>&lt;int&gt;</th><th scope=col>&lt;chr&gt;</th><th scope=col>&lt;chr&gt;</th><th scope=col>&lt;dbl&gt;</th><th scope=col>&lt;int&gt;</th><th scope=col>&lt;dbl&gt;</th><th scope=col>&lt;chr&gt;</th></tr>\n",
       "</thead>\n",
       "<tbody>\n",
       "\t<tr><td>11</td><td>accuracy</td><td>binary</td><td>0.8507258</td><td>5</td><td>0.007648496</td><td>Preprocessor1_Model7</td></tr>\n",
       "</tbody>\n",
       "</table>\n"
      ],
      "text/latex": [
       "A tibble: 1 × 7\n",
       "\\begin{tabular}{lllllll}\n",
       " neighbors & .metric & .estimator & mean & n & std\\_err & .config\\\\\n",
       " <int> & <chr> & <chr> & <dbl> & <int> & <dbl> & <chr>\\\\\n",
       "\\hline\n",
       "\t 11 & accuracy & binary & 0.8507258 & 5 & 0.007648496 & Preprocessor1\\_Model7\\\\\n",
       "\\end{tabular}\n"
      ],
      "text/markdown": [
       "\n",
       "A tibble: 1 × 7\n",
       "\n",
       "| neighbors &lt;int&gt; | .metric &lt;chr&gt; | .estimator &lt;chr&gt; | mean &lt;dbl&gt; | n &lt;int&gt; | std_err &lt;dbl&gt; | .config &lt;chr&gt; |\n",
       "|---|---|---|---|---|---|---|\n",
       "| 11 | accuracy | binary | 0.8507258 | 5 | 0.007648496 | Preprocessor1_Model7 |\n",
       "\n"
      ],
      "text/plain": [
       "  neighbors .metric  .estimator mean      n std_err     .config             \n",
       "1 11        accuracy binary     0.8507258 5 0.007648496 Preprocessor1_Model7"
      ]
     },
     "metadata": {},
     "output_type": "display_data"
    }
   ],
   "source": [
    "best_k"
   ]
  },
  {
   "cell_type": "markdown",
   "id": "75bbce3b-8c25-4480-bf54-056f97c0f21c",
   "metadata": {},
   "source": [
    "                         Figure 6.0.1 - Highest K Accuracy"
   ]
  },
  {
   "cell_type": "code",
   "execution_count": 21,
   "id": "cbfe1d13-933a-45fc-8ecb-9252d06afe98",
   "metadata": {},
   "outputs": [],
   "source": [
    "k_accuracy_plot <- ggplot(accuracies, aes(x= neighbors, y=mean)) +\n",
    "                        geom_point() +\n",
    "                        geom_line() +\n",
    "                        labs(x= \"Neighbors\", y = \"Accuracy Estimate\")+\n",
    "                        xlim(0,14) +\n",
    "                        ggtitle(\"K neighbours vs. Accuracy\") +\n",
    "                        theme(text = element_text(size=20))"
   ]
  },
  {
   "cell_type": "code",
   "execution_count": 22,
   "id": "8cee8601-90e6-44a5-8cfb-0c5187947b41",
   "metadata": {},
   "outputs": [
    {
     "data": {
      "image/png": "[encoded data removed]",
      "text/plain": [
       "plot without title"
      ]
     },
     "metadata": {
      "image/png": {
       "height": 540,
       "width": 600
      }
     },
     "output_type": "display_data"
    }
   ],
   "source": [
    "k_accuracy_plot"
   ]
  },
  {
   "cell_type": "markdown",
   "id": "bdbe9b69-1f35-419e-bfb7-c6a58a5eda93",
   "metadata": {},
   "source": [
    "                          Figure 6.0.2 - K Accuracy Plot"
   ]
  },
  {
   "cell_type": "markdown",
   "id": "274a22f5-779a-4346-b8ea-5062e29d1be5",
   "metadata": {},
   "source": [
    "We have selected K = 11 as the best number of neighbours to use in our classification model. From Figure 6.0.1, we see that K = 11 has the highest resulting accuracy. From Figure 6.0.2, nearby K values, such as K = 10 and K = 13, still have a relatively high accuracy, at around 0.846. Therefore, this indicates that the K = 11 will create a model that is relatively robust and stable, as the accuracy is still high for nearby K- values. "
   ]
  },
  {
   "cell_type": "markdown",
   "id": "ab587e6d",
   "metadata": {},
   "source": [
    "### 7. Example of Result Visualization"
   ]
  },
  {
   "cell_type": "markdown",
   "id": "9c558288-db28-4195-b730-275cda530a3d",
   "metadata": {},
   "source": [
    "After completing our model and testing it on the test dataset, we will create a confusion matrix to compare how observations were classified correctly and how many were incorrectly classified. This will give insight into the accuracy of our model as well as insight into what types of errors are being made. For example, a classification matrix will indicates whether our model is prone to false positives (non-spam email classified as spam) or false negatives (spam email classified as non-spam).  "
   ]
  },
  {
   "cell_type": "markdown",
   "id": "c298b0bd",
   "metadata": {},
   "source": [
    "## Expected Outcome"
   ]
  },
  {
   "cell_type": "markdown",
   "id": "80f7f9fa",
   "metadata": {},
   "source": [
    "### 8. Expected Findings"
   ]
  },
  {
   "cell_type": "markdown",
   "id": "b2d62199-3f53-4e85-8451-8c0d7cae041f",
   "metadata": {},
   "source": [
    "We predict that emails with high frequencies of our predictor variables (ie. dollar signs, brackets, and exclamation marks) are indicative of the email being classified as spam. \n"
   ]
  },
  {
   "cell_type": "markdown",
   "id": "784993ec-be89-4122-87d6-a178f6252393",
   "metadata": {},
   "source": [
    "## Final Classification Model"
   ]
  },
  {
   "cell_type": "markdown",
   "id": "70502e75-bea0-4fc6-8574-eb09b9c36f49",
   "metadata": {},
   "source": [
    "After our initial data pre-processing and predictor selection process, we have selected 3 predictors to use for our classification model: `char_freq_exclamation`,  `char_freq_dollar`, `char_freq_bracket`. We will proceed by creating a classification with K = 11 using our training data, and later testing it with our allocated testing data."
   ]
  },
  {
   "cell_type": "markdown",
   "id": "69a7bc6b-304f-434c-9b77-8fe84d691876",
   "metadata": {},
   "source": [
    "### 9. Final Data Analysis "
   ]
  },
  {
   "cell_type": "markdown",
   "id": "4b53a257-9680-4a57-84bd-04cc1e0bf6c4",
   "metadata": {},
   "source": [
    "#### 9.1 Building Our Model"
   ]
  },
  {
   "cell_type": "markdown",
   "id": "f6df28f5-d220-43ef-b1b0-282c6e6aecd4",
   "metadata": {},
   "source": [
    "We create a specification model to run our classification. We are using **K = 11**, which we previously found from through data analysis. This specification model is then put into a workflow using the recipe we previously created. "
   ]
  },
  {
   "cell_type": "code",
   "execution_count": 46,
   "id": "12565576-bcf6-4ac9-a1e4-b529a73a9c5b",
   "metadata": {},
   "outputs": [],
   "source": [
    "#create a new model with k=11\n",
    "\n",
    "spam_knn_best <- nearest_neighbor(weight_func = \"rectangular\", neighbors = 11) |>\n",
    "                    set_engine(\"kknn\") |>\n",
    "                    set_mode(\"classification\")\n",
    "\n",
    "#Place the specification model into a workflow using our previously created recipe\n",
    "\n",
    "spam_recipe <- recipe(spam_indicator ~ char_freq_exclamation + char_freq_dollar + char_freq_bracket, data= data_train) |>\n",
    "            step_scale(all_predictors()) |>\n",
    "            step_center(all_predictors()) |>\n",
    "            prep()\n",
    "\n",
    "spam_fit_best <- workflow() |>\n",
    "        add_recipe(spam_recipe) |>\n",
    "        add_model(spam_knn_best) |>\n",
    "        fit(data = data_train)"
   ]
  },
  {
   "cell_type": "code",
   "execution_count": 47,
   "id": "4d26b274-7c98-43e4-9239-ad5bb0072c55",
   "metadata": {},
   "outputs": [
    {
     "data": {
      "text/plain": [
       "══ Workflow [trained] ══════════════════════════════════════════════════════════\n",
       "\u001b[3mPreprocessor:\u001b[23m Recipe\n",
       "\u001b[3mModel:\u001b[23m nearest_neighbor()\n",
       "\n",
       "── Preprocessor ────────────────────────────────────────────────────────────────\n",
       "2 Recipe Steps\n",
       "\n",
       "• step_scale()\n",
       "• step_center()\n",
       "\n",
       "── Model ───────────────────────────────────────────────────────────────────────\n",
       "\n",
       "Call:\n",
       "kknn::train.kknn(formula = ..y ~ ., data = data, ks = min_rows(11,     data, 5), kernel = ~\"rectangular\")\n",
       "\n",
       "Type of response variable: nominal\n",
       "Minimal misclassification: 0.1489855\n",
       "Best kernel: rectangular\n",
       "Best k: 11"
      ]
     },
     "metadata": {},
     "output_type": "display_data"
    }
   ],
   "source": [
    "spam_fit_best"
   ]
  },
  {
   "cell_type": "markdown",
   "id": "96acbf95-53c7-47cb-abb0-bed7e669116d",
   "metadata": {},
   "source": [
    "#### 9.2 Predict Test Data"
   ]
  },
  {
   "cell_type": "markdown",
   "id": "8f73a009-0a2b-49fe-b51c-d28410ba6e67",
   "metadata": {},
   "source": [
    "Now, we will introduce our testing dataset and predict using our model. "
   ]
  },
  {
   "cell_type": "code",
   "execution_count": 48,
   "id": "d9db33a0-afc9-4ddb-b4bb-f7a2796ab3d6",
   "metadata": {},
   "outputs": [],
   "source": [
    "spam_test_predictions <- predict(spam_fit_best , data_test) |>\n",
    "      bind_cols(data_test)"
   ]
  },
  {
   "cell_type": "code",
   "execution_count": 49,
   "id": "98402714-a91a-4b6a-9e0b-d791b19c897e",
   "metadata": {},
   "outputs": [
    {
     "data": {
      "text/html": [
       "<table class=\"dataframe\">\n",
       "<caption>A tibble: 1151 × 60</caption>\n",
       "<thead>\n",
       "\t<tr><th scope=col>.pred_class</th><th scope=col>ID</th><th scope=col>word_freq_make</th><th scope=col>word_freq_address</th><th scope=col>word_freq_all</th><th scope=col>word_freq_3d</th><th scope=col>word_freq_our</th><th scope=col>word_freq_over</th><th scope=col>word_freq_remove</th><th scope=col>word_freq_internet</th><th scope=col>⋯</th><th scope=col>char_freq_semicolon</th><th scope=col>char_freq_bracket</th><th scope=col>char_freq_squarebracket</th><th scope=col>char_freq_exclamation</th><th scope=col>char_freq_dollar</th><th scope=col>char_freq_hashtag</th><th scope=col>capital_run_length_average</th><th scope=col>capital_run_length_longest</th><th scope=col>capital_run_length_total</th><th scope=col>spam_indicator</th></tr>\n",
       "\t<tr><th scope=col>&lt;fct&gt;</th><th scope=col>&lt;int&gt;</th><th scope=col>&lt;dbl&gt;</th><th scope=col>&lt;dbl&gt;</th><th scope=col>&lt;dbl&gt;</th><th scope=col>&lt;dbl&gt;</th><th scope=col>&lt;dbl&gt;</th><th scope=col>&lt;dbl&gt;</th><th scope=col>&lt;dbl&gt;</th><th scope=col>&lt;dbl&gt;</th><th scope=col>⋯</th><th scope=col>&lt;dbl&gt;</th><th scope=col>&lt;dbl&gt;</th><th scope=col>&lt;dbl&gt;</th><th scope=col>&lt;dbl&gt;</th><th scope=col>&lt;dbl&gt;</th><th scope=col>&lt;dbl&gt;</th><th scope=col>&lt;dbl&gt;</th><th scope=col>&lt;dbl&gt;</th><th scope=col>&lt;dbl&gt;</th><th scope=col>&lt;fct&gt;</th></tr>\n",
       "</thead>\n",
       "<tbody>\n",
       "\t<tr><td>0</td><td> 8</td><td>0</td><td>0.00</td><td>0.00</td><td>0</td><td>1.88</td><td>0.00</td><td>0.00</td><td>1.88</td><td>⋯</td><td>0</td><td>0.206</td><td>0</td><td>0.000</td><td>0.000</td><td>0</td><td>2.450</td><td>11</td><td> 49</td><td>1</td></tr>\n",
       "\t<tr><td>1</td><td>15</td><td>0</td><td>0.00</td><td>1.42</td><td>0</td><td>0.71</td><td>0.35</td><td>0.00</td><td>0.35</td><td>⋯</td><td>0</td><td>0.102</td><td>0</td><td>0.357</td><td>0.000</td><td>0</td><td>1.971</td><td>24</td><td>205</td><td>1</td></tr>\n",
       "\t<tr><td>1</td><td>16</td><td>0</td><td>0.42</td><td>0.42</td><td>0</td><td>1.27</td><td>0.00</td><td>0.42</td><td>0.00</td><td>⋯</td><td>0</td><td>0.063</td><td>0</td><td>0.572</td><td>0.063</td><td>0</td><td>5.659</td><td>55</td><td>249</td><td>1</td></tr>\n",
       "\t<tr><td>⋮</td><td>⋮</td><td>⋮</td><td>⋮</td><td>⋮</td><td>⋮</td><td>⋮</td><td>⋮</td><td>⋮</td><td>⋮</td><td>⋱</td><td>⋮</td><td>⋮</td><td>⋮</td><td>⋮</td><td>⋮</td><td>⋮</td><td>⋮</td><td>⋮</td><td>⋮</td><td>⋮</td></tr>\n",
       "\t<tr><td>0</td><td>4592</td><td>0</td><td>0</td><td>0</td><td>0</td><td>0</td><td>0</td><td>0</td><td>0</td><td>⋯</td><td>0</td><td>0.00</td><td>0</td><td>0.000</td><td>0</td><td>0</td><td>1.000</td><td>1</td><td> 8</td><td>0</td></tr>\n",
       "\t<tr><td>1</td><td>4594</td><td>0</td><td>0</td><td>0</td><td>0</td><td>0</td><td>0</td><td>0</td><td>0</td><td>⋯</td><td>0</td><td>0.00</td><td>0</td><td>1.052</td><td>0</td><td>0</td><td>1.000</td><td>1</td><td> 6</td><td>0</td></tr>\n",
       "\t<tr><td>0</td><td>4595</td><td>0</td><td>0</td><td>0</td><td>0</td><td>0</td><td>0</td><td>0</td><td>0</td><td>⋯</td><td>0</td><td>0.63</td><td>0</td><td>0.000</td><td>0</td><td>0</td><td>1.727</td><td>5</td><td>19</td><td>0</td></tr>\n",
       "</tbody>\n",
       "</table>\n"
      ],
      "text/latex": [
       "A tibble: 1151 × 60\n",
       "\\begin{tabular}{lllllllllllllllllllll}\n",
       " .pred\\_class & ID & word\\_freq\\_make & word\\_freq\\_address & word\\_freq\\_all & word\\_freq\\_3d & word\\_freq\\_our & word\\_freq\\_over & word\\_freq\\_remove & word\\_freq\\_internet & ⋯ & char\\_freq\\_semicolon & char\\_freq\\_bracket & char\\_freq\\_squarebracket & char\\_freq\\_exclamation & char\\_freq\\_dollar & char\\_freq\\_hashtag & capital\\_run\\_length\\_average & capital\\_run\\_length\\_longest & capital\\_run\\_length\\_total & spam\\_indicator\\\\\n",
       " <fct> & <int> & <dbl> & <dbl> & <dbl> & <dbl> & <dbl> & <dbl> & <dbl> & <dbl> & ⋯ & <dbl> & <dbl> & <dbl> & <dbl> & <dbl> & <dbl> & <dbl> & <dbl> & <dbl> & <fct>\\\\\n",
       "\\hline\n",
       "\t 0 &  8 & 0 & 0.00 & 0.00 & 0 & 1.88 & 0.00 & 0.00 & 1.88 & ⋯ & 0 & 0.206 & 0 & 0.000 & 0.000 & 0 & 2.450 & 11 &  49 & 1\\\\\n",
       "\t 1 & 15 & 0 & 0.00 & 1.42 & 0 & 0.71 & 0.35 & 0.00 & 0.35 & ⋯ & 0 & 0.102 & 0 & 0.357 & 0.000 & 0 & 1.971 & 24 & 205 & 1\\\\\n",
       "\t 1 & 16 & 0 & 0.42 & 0.42 & 0 & 1.27 & 0.00 & 0.42 & 0.00 & ⋯ & 0 & 0.063 & 0 & 0.572 & 0.063 & 0 & 5.659 & 55 & 249 & 1\\\\\n",
       "\t ⋮ & ⋮ & ⋮ & ⋮ & ⋮ & ⋮ & ⋮ & ⋮ & ⋮ & ⋮ & ⋱ & ⋮ & ⋮ & ⋮ & ⋮ & ⋮ & ⋮ & ⋮ & ⋮ & ⋮ & ⋮\\\\\n",
       "\t 0 & 4592 & 0 & 0 & 0 & 0 & 0 & 0 & 0 & 0 & ⋯ & 0 & 0.00 & 0 & 0.000 & 0 & 0 & 1.000 & 1 &  8 & 0\\\\\n",
       "\t 1 & 4594 & 0 & 0 & 0 & 0 & 0 & 0 & 0 & 0 & ⋯ & 0 & 0.00 & 0 & 1.052 & 0 & 0 & 1.000 & 1 &  6 & 0\\\\\n",
       "\t 0 & 4595 & 0 & 0 & 0 & 0 & 0 & 0 & 0 & 0 & ⋯ & 0 & 0.63 & 0 & 0.000 & 0 & 0 & 1.727 & 5 & 19 & 0\\\\\n",
       "\\end{tabular}\n"
      ],
      "text/markdown": [
       "\n",
       "A tibble: 1151 × 60\n",
       "\n",
       "| .pred_class &lt;fct&gt; | ID &lt;int&gt; | word_freq_make &lt;dbl&gt; | word_freq_address &lt;dbl&gt; | word_freq_all &lt;dbl&gt; | word_freq_3d &lt;dbl&gt; | word_freq_our &lt;dbl&gt; | word_freq_over &lt;dbl&gt; | word_freq_remove &lt;dbl&gt; | word_freq_internet &lt;dbl&gt; | ⋯ ⋯ | char_freq_semicolon &lt;dbl&gt; | char_freq_bracket &lt;dbl&gt; | char_freq_squarebracket &lt;dbl&gt; | char_freq_exclamation &lt;dbl&gt; | char_freq_dollar &lt;dbl&gt; | char_freq_hashtag &lt;dbl&gt; | capital_run_length_average &lt;dbl&gt; | capital_run_length_longest &lt;dbl&gt; | capital_run_length_total &lt;dbl&gt; | spam_indicator &lt;fct&gt; |\n",
       "|---|---|---|---|---|---|---|---|---|---|---|---|---|---|---|---|---|---|---|---|---|\n",
       "| 0 |  8 | 0 | 0.00 | 0.00 | 0 | 1.88 | 0.00 | 0.00 | 1.88 | ⋯ | 0 | 0.206 | 0 | 0.000 | 0.000 | 0 | 2.450 | 11 |  49 | 1 |\n",
       "| 1 | 15 | 0 | 0.00 | 1.42 | 0 | 0.71 | 0.35 | 0.00 | 0.35 | ⋯ | 0 | 0.102 | 0 | 0.357 | 0.000 | 0 | 1.971 | 24 | 205 | 1 |\n",
       "| 1 | 16 | 0 | 0.42 | 0.42 | 0 | 1.27 | 0.00 | 0.42 | 0.00 | ⋯ | 0 | 0.063 | 0 | 0.572 | 0.063 | 0 | 5.659 | 55 | 249 | 1 |\n",
       "| ⋮ | ⋮ | ⋮ | ⋮ | ⋮ | ⋮ | ⋮ | ⋮ | ⋮ | ⋮ | ⋱ | ⋮ | ⋮ | ⋮ | ⋮ | ⋮ | ⋮ | ⋮ | ⋮ | ⋮ | ⋮ |\n",
       "| 0 | 4592 | 0 | 0 | 0 | 0 | 0 | 0 | 0 | 0 | ⋯ | 0 | 0.00 | 0 | 0.000 | 0 | 0 | 1.000 | 1 |  8 | 0 |\n",
       "| 1 | 4594 | 0 | 0 | 0 | 0 | 0 | 0 | 0 | 0 | ⋯ | 0 | 0.00 | 0 | 1.052 | 0 | 0 | 1.000 | 1 |  6 | 0 |\n",
       "| 0 | 4595 | 0 | 0 | 0 | 0 | 0 | 0 | 0 | 0 | ⋯ | 0 | 0.63 | 0 | 0.000 | 0 | 0 | 1.727 | 5 | 19 | 0 |\n",
       "\n"
      ],
      "text/plain": [
       "     .pred_class ID   word_freq_make word_freq_address word_freq_all\n",
       "1    0            8   0              0.00              0.00         \n",
       "2    1           15   0              0.00              1.42         \n",
       "3    1           16   0              0.42              0.42         \n",
       "⋮    ⋮           ⋮    ⋮              ⋮                 ⋮            \n",
       "1149 0           4592 0              0                 0            \n",
       "1150 1           4594 0              0                 0            \n",
       "1151 0           4595 0              0                 0            \n",
       "     word_freq_3d word_freq_our word_freq_over word_freq_remove\n",
       "1    0            1.88          0.00           0.00            \n",
       "2    0            0.71          0.35           0.00            \n",
       "3    0            1.27          0.00           0.42            \n",
       "⋮    ⋮            ⋮             ⋮              ⋮               \n",
       "1149 0            0             0              0               \n",
       "1150 0            0             0              0               \n",
       "1151 0            0             0              0               \n",
       "     word_freq_internet ⋯ char_freq_semicolon char_freq_bracket\n",
       "1    1.88               ⋯ 0                   0.206            \n",
       "2    0.35               ⋯ 0                   0.102            \n",
       "3    0.00               ⋯ 0                   0.063            \n",
       "⋮    ⋮                  ⋱ ⋮                   ⋮                \n",
       "1149 0                  ⋯ 0                   0.00             \n",
       "1150 0                  ⋯ 0                   0.00             \n",
       "1151 0                  ⋯ 0                   0.63             \n",
       "     char_freq_squarebracket char_freq_exclamation char_freq_dollar\n",
       "1    0                       0.000                 0.000           \n",
       "2    0                       0.357                 0.000           \n",
       "3    0                       0.572                 0.063           \n",
       "⋮    ⋮                       ⋮                     ⋮               \n",
       "1149 0                       0.000                 0               \n",
       "1150 0                       1.052                 0               \n",
       "1151 0                       0.000                 0               \n",
       "     char_freq_hashtag capital_run_length_average capital_run_length_longest\n",
       "1    0                 2.450                      11                        \n",
       "2    0                 1.971                      24                        \n",
       "3    0                 5.659                      55                        \n",
       "⋮    ⋮                 ⋮                          ⋮                         \n",
       "1149 0                 1.000                      1                         \n",
       "1150 0                 1.000                      1                         \n",
       "1151 0                 1.727                      5                         \n",
       "     capital_run_length_total spam_indicator\n",
       "1     49                      1             \n",
       "2    205                      1             \n",
       "3    249                      1             \n",
       "⋮    ⋮                        ⋮             \n",
       "1149  8                       0             \n",
       "1150  6                       0             \n",
       "1151 19                       0             "
      ]
     },
     "metadata": {},
     "output_type": "display_data"
    }
   ],
   "source": [
    "spam_test_predictions"
   ]
  },
  {
   "cell_type": "markdown",
   "id": "1a81af6a-d3e4-45fe-9582-e20dc486fda1",
   "metadata": {},
   "source": [
    "                                Figure 9.2 - Consolidated Dataset with Predictions"
   ]
  },
  {
   "cell_type": "markdown",
   "id": "2217f180-38f0-494c-9be2-1b77571fc8e5",
   "metadata": {},
   "source": [
    "#### 9.3 Model Accuracy "
   ]
  },
  {
   "cell_type": "markdown",
   "id": "8f572e4a-025d-4006-a314-263c9541cc22",
   "metadata": {},
   "source": [
    "Now, we will view the accuracy of our predictions. We will use the`metrics` function to get statistics about the model quality. "
   ]
  },
  {
   "cell_type": "code",
   "execution_count": 50,
   "id": "9b2317e4-5846-48ed-a3a7-b26564e25bc9",
   "metadata": {},
   "outputs": [],
   "source": [
    "spam_prediction_accuracy <- spam_test_predictions |>\n",
    "         metrics(truth = spam_indicator, estimate = .pred_class)          "
   ]
  },
  {
   "cell_type": "code",
   "execution_count": 51,
   "id": "aaa77f7f-865a-4c9f-8e38-1572d4b499b0",
   "metadata": {},
   "outputs": [
    {
     "data": {
      "text/html": [
       "<table class=\"dataframe\">\n",
       "<caption>A tibble: 2 × 3</caption>\n",
       "<thead>\n",
       "\t<tr><th scope=col>.metric</th><th scope=col>.estimator</th><th scope=col>.estimate</th></tr>\n",
       "\t<tr><th scope=col>&lt;chr&gt;</th><th scope=col>&lt;chr&gt;</th><th scope=col>&lt;dbl&gt;</th></tr>\n",
       "</thead>\n",
       "<tbody>\n",
       "\t<tr><td>accuracy</td><td>binary</td><td>0.8436142</td></tr>\n",
       "\t<tr><td>kap     </td><td>binary</td><td>0.6672716</td></tr>\n",
       "</tbody>\n",
       "</table>\n"
      ],
      "text/latex": [
       "A tibble: 2 × 3\n",
       "\\begin{tabular}{lll}\n",
       " .metric & .estimator & .estimate\\\\\n",
       " <chr> & <chr> & <dbl>\\\\\n",
       "\\hline\n",
       "\t accuracy & binary & 0.8436142\\\\\n",
       "\t kap      & binary & 0.6672716\\\\\n",
       "\\end{tabular}\n"
      ],
      "text/markdown": [
       "\n",
       "A tibble: 2 × 3\n",
       "\n",
       "| .metric &lt;chr&gt; | .estimator &lt;chr&gt; | .estimate &lt;dbl&gt; |\n",
       "|---|---|---|\n",
       "| accuracy | binary | 0.8436142 |\n",
       "| kap      | binary | 0.6672716 |\n",
       "\n"
      ],
      "text/plain": [
       "  .metric  .estimator .estimate\n",
       "1 accuracy binary     0.8436142\n",
       "2 kap      binary     0.6672716"
      ]
     },
     "metadata": {},
     "output_type": "display_data"
    }
   ],
   "source": [
    "spam_prediction_accuracy"
   ]
  },
  {
   "cell_type": "markdown",
   "id": "125ae949-a8aa-4d2a-a135-42e366937fda",
   "metadata": {},
   "source": [
    "                                    Figure 9.3 - Model Accuracy"
   ]
  },
  {
   "cell_type": "markdown",
   "id": "dfdb59fd-56be-4be4-9fbf-dcb63cf0b202",
   "metadata": {},
   "source": [
    "### 10. Data Visualization"
   ]
  },
  {
   "cell_type": "markdown",
   "id": "ebc55804-8570-4bc3-ab44-0bfabdcca603",
   "metadata": {},
   "source": [
    "#### 10.1 K-Neighbours Vs. Accuracy"
   ]
  },
  {
   "cell_type": "markdown",
   "id": "94a600ed-c88f-46f1-8878-13a2ab29758f",
   "metadata": {},
   "source": [
    "Provided below is Figure 10.1 (which was also included above in Section 6). This K vs Accuracy plot outlines the accuracy estimate of each K value, with the range of K values between 2-11. From Figure 6.0.2, K = 11 has the highest accuracy. Nearby K values, such as K = 10 and K = 13, also have a relatively high accuracy, indicating that using a K=11 will create a model that is relatively stable."
   ]
  },
  {
   "cell_type": "code",
   "execution_count": 52,
   "id": "bfb13221-1333-4ceb-9a46-fe70482957a0",
   "metadata": {},
   "outputs": [
    {
     "data": {
      "image/png": "[encoded data removed]",
      "text/plain": [
       "plot without title"
      ]
     },
     "metadata": {
      "image/png": {
       "height": 540,
       "width": 600
      }
     },
     "output_type": "display_data"
    }
   ],
   "source": [
    "k_accuracy_plot"
   ]
  },
  {
   "cell_type": "markdown",
   "id": "42060d3d-1ff7-4ae0-936a-f2bb706d121a",
   "metadata": {},
   "source": [
    "                            Figure 10.1 - K Versus Accuracy\n",
    "             "
   ]
  },
  {
   "cell_type": "markdown",
   "id": "68e873c1-f7e1-446a-a690-0d46c6b6f016",
   "metadata": {},
   "source": [
    "#### 10.2 Confusion Matrix"
   ]
  },
  {
   "cell_type": "markdown",
   "id": "0cee1d11-0bee-43c1-89ac-e2a044724fbf",
   "metadata": {},
   "source": [
    "We will also use a confusion matrix which is a performance measurement tool for classification models. Please refer to Figure 10.2."
   ]
  },
  {
   "cell_type": "code",
   "execution_count": 53,
   "id": "34987f2e-acdd-44ff-89bb-30744948bda5",
   "metadata": {},
   "outputs": [],
   "source": [
    "spam_mat <- spam_test_predictions |> \n",
    " conf_mat(truth = spam_indicator, estimate = .pred_class)"
   ]
  },
  {
   "cell_type": "code",
   "execution_count": 54,
   "id": "4a845962-38dd-49fc-9d5c-ccd3669aee1c",
   "metadata": {},
   "outputs": [
    {
     "data": {
      "text/plain": [
       "          Truth\n",
       "Prediction   0   1\n",
       "         0 628 111\n",
       "         1  69 343"
      ]
     },
     "metadata": {},
     "output_type": "display_data"
    }
   ],
   "source": [
    "spam_mat"
   ]
  },
  {
   "cell_type": "markdown",
   "id": "269daccb-ac4c-4840-9b10-9e735fc8e68e",
   "metadata": {},
   "source": [
    "                                       Figure 10.2.0 - Model Confusion Matrix"
   ]
  },
  {
   "cell_type": "markdown",
   "id": "2e926c14-57a2-4869-802b-0876459374ad",
   "metadata": {},
   "source": [
    "To re-iterate, 1 indicates spam and 0 indicates non-spam emails. Therefore, to interpret out confusion matrix, the upper right quadrant represents observations that are **false-positives** (emails that are spam but were classified as non-spam). Similarly, the bottom-left quadrant represents observations that are **false-negatives** (emails that are not spam but were classified as spam). This showed that 628 non-spam emails and 343 spam emails were correctly classified while 69 non-spam emails and 111 spam emails were incorrectly classified. See below for a percentage calculation for each quadrant of the confusion matrix."
   ]
  },
  {
   "cell_type": "code",
   "execution_count": 55,
   "id": "543505ae-e57a-42e1-b20f-54bb3ccdd285",
   "metadata": {},
   "outputs": [],
   "source": [
    "#Calculate percentage of false positive, false negative, true positive, true negative\n",
    "total_observations <- 628 + 111 + 69 + 343\n",
    "correct_pos_percent <- 628/ total_observations * 100\n",
    "correct_neg_percent <- 343/total_observations * 100\n",
    "false_pos_percent_total <- 69/total_observations * 100\n",
    "false_neg_percent_total <- 111/total_observations * 100\n",
    "false_pos_percent_relative <- 69/(111+343) * 100\n",
    "false_neg_percent_relative <- 111/(111+343) * 100\n",
    "total_errors_percent <- (111+69)/(628+111+69+343)*100\n",
    "\n",
    "#Create a table to visualize the results above\n",
    "\n",
    "conf_mat_results <- data.frame(correct_pos_percent = c(correct_pos_percent),\n",
    "                 correct_neg_percent = c(correct_neg_percent),\n",
    "                   false_pos_percent_total = c(false_pos_percent_total),\n",
    "                    false_neg_percent_total  = c(false_neg_percent_total),\n",
    "                    false_pos_percent_relative = c(false_pos_percent_relative),\n",
    "                 false_neg_percent_relative = c(false_neg_percent_relative),\n",
    "                     total_errors = c(total_errors_percent))"
   ]
  },
  {
   "cell_type": "code",
   "execution_count": 56,
   "id": "7c10ae8c-2c8a-407d-8ef4-656ddc8afd99",
   "metadata": {},
   "outputs": [
    {
     "data": {
      "text/html": [
       "<table class=\"dataframe\">\n",
       "<caption>A data.frame: 1 × 7</caption>\n",
       "<thead>\n",
       "\t<tr><th scope=col>correct_pos_percent</th><th scope=col>correct_neg_percent</th><th scope=col>false_pos_percent_total</th><th scope=col>false_neg_percent_total</th><th scope=col>false_pos_percent_relative</th><th scope=col>false_neg_percent_relative</th><th scope=col>total_errors</th></tr>\n",
       "\t<tr><th scope=col>&lt;dbl&gt;</th><th scope=col>&lt;dbl&gt;</th><th scope=col>&lt;dbl&gt;</th><th scope=col>&lt;dbl&gt;</th><th scope=col>&lt;dbl&gt;</th><th scope=col>&lt;dbl&gt;</th><th scope=col>&lt;dbl&gt;</th></tr>\n",
       "</thead>\n",
       "<tbody>\n",
       "\t<tr><td>54.56125</td><td>29.80017</td><td>5.994787</td><td>9.643788</td><td>15.19824</td><td>24.44934</td><td>15.63858</td></tr>\n",
       "</tbody>\n",
       "</table>\n"
      ],
      "text/latex": [
       "A data.frame: 1 × 7\n",
       "\\begin{tabular}{lllllll}\n",
       " correct\\_pos\\_percent & correct\\_neg\\_percent & false\\_pos\\_percent\\_total & false\\_neg\\_percent\\_total & false\\_pos\\_percent\\_relative & false\\_neg\\_percent\\_relative & total\\_errors\\\\\n",
       " <dbl> & <dbl> & <dbl> & <dbl> & <dbl> & <dbl> & <dbl>\\\\\n",
       "\\hline\n",
       "\t 54.56125 & 29.80017 & 5.994787 & 9.643788 & 15.19824 & 24.44934 & 15.63858\\\\\n",
       "\\end{tabular}\n"
      ],
      "text/markdown": [
       "\n",
       "A data.frame: 1 × 7\n",
       "\n",
       "| correct_pos_percent &lt;dbl&gt; | correct_neg_percent &lt;dbl&gt; | false_pos_percent_total &lt;dbl&gt; | false_neg_percent_total &lt;dbl&gt; | false_pos_percent_relative &lt;dbl&gt; | false_neg_percent_relative &lt;dbl&gt; | total_errors &lt;dbl&gt; |\n",
       "|---|---|---|---|---|---|---|\n",
       "| 54.56125 | 29.80017 | 5.994787 | 9.643788 | 15.19824 | 24.44934 | 15.63858 |\n",
       "\n"
      ],
      "text/plain": [
       "  correct_pos_percent correct_neg_percent false_pos_percent_total\n",
       "1 54.56125            29.80017            5.994787               \n",
       "  false_neg_percent_total false_pos_percent_relative false_neg_percent_relative\n",
       "1 9.643788                15.19824                   24.44934                  \n",
       "  total_errors\n",
       "1 15.63858    "
      ]
     },
     "metadata": {},
     "output_type": "display_data"
    }
   ],
   "source": [
    "conf_mat_results"
   ]
  },
  {
   "cell_type": "markdown",
   "id": "037ac27a-7a5e-47e4-962e-e9c39bb991f7",
   "metadata": {},
   "source": [
    "                                        Figure 10.2.1 - Confusion Matrix Results"
   ]
  },
  {
   "cell_type": "markdown",
   "id": "bb6412cd-6dae-4dac-b538-e406f5d8b49d",
   "metadata": {},
   "source": [
    "Figure 10.2.1 breaks down the confusion matrix and how it should be interpreted. `false_pos_percent_total` and `false_neg_percent_total` indicate the percentage of misclassified predictions as a percentage of the entire dataset while `false_pos_percent_relative` and `false_neg_percent_relative` indicate the percentage of misclassified predictions as a percent of it's respective classification type (ie. out of all predictions classified negative or positive). \n",
    "\n",
    "According to our to this table, **our model has higher percentage of false negative** than false positive overall."
   ]
  },
  {
   "cell_type": "markdown",
   "id": "9c4efaf1-305d-4e2e-8c43-67e6c8d6c92e",
   "metadata": {},
   "source": [
    "### 10.3 Predictor Frequency Vs. Observation Classification"
   ]
  },
  {
   "cell_type": "markdown",
   "id": "d4e48fd9-a622-4d35-be53-cd0d4ac787cd",
   "metadata": {},
   "source": [
    "To evaluate whether our original hypothesis is correct, we calculated the mean of the frequency of our predictor variables within each email and compared the mean frequencies with respect to their predicted class label. Based on our hypothesis, observations classified as non-spam should have a low average frequency of exclamation marks, dollar signs, and brackets. Similarly, observations classified as spam should have a higher average frequency of exclamation marks, dollar signs, and brackets."
   ]
  },
  {
   "cell_type": "code",
   "execution_count": 57,
   "id": "7b7e96a8-d575-4559-aa18-ffca2348c7a5",
   "metadata": {},
   "outputs": [],
   "source": [
    "spam_test_predictions_condensed <- spam_test_predictions |>\n",
    " select(.pred_class, ID, char_freq_exclamation, char_freq_dollar, char_freq_bracket, spam_indicator) |>\n",
    "  group_by(.pred_class) |>\n",
    "  summarize(mean_char_freq_exclamation = mean(char_freq_exclamation),\n",
    "            mean_char_freq_dollar = mean(char_freq_dollar),\n",
    "            mean_char_freq_bracket = mean(char_freq_bracket))"
   ]
  },
  {
   "cell_type": "code",
   "execution_count": 58,
   "id": "eec73fcf-5769-4487-8c35-b870ef3779c7",
   "metadata": {},
   "outputs": [
    {
     "data": {
      "text/html": [
       "<table class=\"dataframe\">\n",
       "<caption>A tibble: 2 × 4</caption>\n",
       "<thead>\n",
       "\t<tr><th scope=col>.pred_class</th><th scope=col>mean_char_freq_exclamation</th><th scope=col>mean_char_freq_dollar</th><th scope=col>mean_char_freq_bracket</th></tr>\n",
       "\t<tr><th scope=col>&lt;fct&gt;</th><th scope=col>&lt;dbl&gt;</th><th scope=col>&lt;dbl&gt;</th><th scope=col>&lt;dbl&gt;</th></tr>\n",
       "</thead>\n",
       "<tbody>\n",
       "\t<tr><td>0</td><td>0.05883085</td><td>0.00473207</td><td>0.1566401</td></tr>\n",
       "\t<tr><td>1</td><td>0.59664320</td><td>0.21880583</td><td>0.1020510</td></tr>\n",
       "</tbody>\n",
       "</table>\n"
      ],
      "text/latex": [
       "A tibble: 2 × 4\n",
       "\\begin{tabular}{llll}\n",
       " .pred\\_class & mean\\_char\\_freq\\_exclamation & mean\\_char\\_freq\\_dollar & mean\\_char\\_freq\\_bracket\\\\\n",
       " <fct> & <dbl> & <dbl> & <dbl>\\\\\n",
       "\\hline\n",
       "\t 0 & 0.05883085 & 0.00473207 & 0.1566401\\\\\n",
       "\t 1 & 0.59664320 & 0.21880583 & 0.1020510\\\\\n",
       "\\end{tabular}\n"
      ],
      "text/markdown": [
       "\n",
       "A tibble: 2 × 4\n",
       "\n",
       "| .pred_class &lt;fct&gt; | mean_char_freq_exclamation &lt;dbl&gt; | mean_char_freq_dollar &lt;dbl&gt; | mean_char_freq_bracket &lt;dbl&gt; |\n",
       "|---|---|---|---|\n",
       "| 0 | 0.05883085 | 0.00473207 | 0.1566401 |\n",
       "| 1 | 0.59664320 | 0.21880583 | 0.1020510 |\n",
       "\n"
      ],
      "text/plain": [
       "  .pred_class mean_char_freq_exclamation mean_char_freq_dollar\n",
       "1 0           0.05883085                 0.00473207           \n",
       "2 1           0.59664320                 0.21880583           \n",
       "  mean_char_freq_bracket\n",
       "1 0.1566401             \n",
       "2 0.1020510             "
      ]
     },
     "metadata": {},
     "output_type": "display_data"
    }
   ],
   "source": [
    "spam_test_predictions_condensed"
   ]
  },
  {
   "cell_type": "markdown",
   "id": "1028c42c-7597-4d64-9efd-3031d9fc77e6",
   "metadata": {},
   "source": [
    "                     10.3 - Mean Frequency of Predictors for Predicted Class"
   ]
  },
  {
   "cell_type": "markdown",
   "id": "bec307a4-6e0a-452a-98cf-2a7bf093930f",
   "metadata": {},
   "source": [
    "From Figure 10.3, we can see that observations that are classified as non-spam have low frequencies of exclamation marks and dollar signs. Observations classified as spam then have signficiantly higher frequencies of exclamation marks and dollar signs. However, both observations classified as non-spam or spam have similar frequencies of bracket signs."
   ]
  },
  {
   "cell_type": "markdown",
   "id": "4ccb5bbe-426e-4206-9e7b-0d5984d76611",
   "metadata": {},
   "source": [
    "## Discussion"
   ]
  },
  {
   "cell_type": "markdown",
   "id": "760bf3aa-0323-4b2b-8a0a-a57945d01248",
   "metadata": {},
   "source": [
    "### 11. Results"
   ]
  },
  {
   "cell_type": "markdown",
   "id": "55fd32c6-6e3f-4cad-9b3c-f971354e8a87",
   "metadata": {},
   "source": [
    "#### 11.1 Model Results"
   ]
  },
  {
   "cell_type": "markdown",
   "id": "8e6216b8-ecd1-4628-ac59-aef076423092",
   "metadata": {},
   "source": [
    "Using the K-NN classification model, we create a classification on the spam email databse provided by the UCI Machine Learning Respository. After conducting preliminary data analysis to select the model predictors of `char_freq_exclamation`,  `char_freq_dollar`, and `char_freq_bracket`and K-value of 11, a K-NN final classification model was created where the testing set was used to measure the model accuracy. \n"
   ]
  },
  {
   "cell_type": "markdown",
   "id": "e069b941-18ee-45dc-a8f5-80be2c9a2ed8",
   "metadata": {},
   "source": [
    "\n",
    "Additionally, our hypothesis was only partially supported. Observations that were classified as non-spam had lower frequencies of exclamation marks and dollar signs, while observations classified as spam had higher frequencies of both. However, both spam and non-spam classified observations had similar frequencies of brackets. This indicates that exclamation marks are not indicative of whether an email will be classified as spam or not, based on our model.\n"
   ]
  },
  {
   "cell_type": "markdown",
   "id": "5be6a287-abe0-4e89-8e04-3af166a2653e",
   "metadata": {},
   "source": [
    "#### 11.2 Performance Metrics Results"
   ]
  },
  {
   "cell_type": "markdown",
   "id": "0e16cebe-1067-4145-8ffb-d946d197824b",
   "metadata": {},
   "source": [
    "Overall, from Figure 9.3., the model has an accuracy of 84.36%, meaning that 84.36% of observations were correctly identified as their true class.\n",
    "\n",
    "From Figure 9.2.1, the confusion matrix further breaksdown how many errors were made and the nature of the error (ie. false negative or false positive). Our classification model predicted 15.2% of non-spam observations as spam, which makes up 5.99% of total observations. Contrarily, our classification model predicted 24.45% of spam observations as non-spam, which makes up 9.64% of the total observations. The fact that our confusion matrix indicated a larger amount of false positives rather than false negatives is, in a way, favorable as false negatives have a greater consequence than false positives (Santos, 2020) due to the fact that classifying important emails as spam has graver consequences compared to spam mail slipping through occasionally."
   ]
  },
  {
   "cell_type": "markdown",
   "id": "554e4421-ec2d-4f9f-b33a-1ca1fc9976ba",
   "metadata": {},
   "source": [
    "### 12. Limitations\n"
   ]
  },
  {
   "cell_type": "markdown",
   "id": "f0c26642-b465-420c-bc05-f54cc0a7ae84",
   "metadata": {},
   "source": [
    "#### 12.1 Dataset Limitations"
   ]
  },
  {
   "cell_type": "markdown",
   "id": "948d1b45-195f-487e-9314-ea8ad099732f",
   "metadata": {},
   "source": [
    "To reiterate, the dataset we used for our model is the Spambase Dataset which was created by Hopkins (1999). Personal emails were used to curate the non-spam portion of emails, hence personalized terms such as \"george\" or \"650\" were great indicators of non-spam. "
   ]
  },
  {
   "cell_type": "markdown",
   "id": "7a7305a6-3179-4aae-add6-acdff90566ff",
   "metadata": {},
   "source": [
    "When a model was created with all predictors, the datast had a classification error of 7%. Our model produced an error percentage of 15.6%. However, we deliberately selected predictors that were non-personalized, such as punctuation,as we wanted a non-personalized spam model. Hence, our model results may be linked to the dataset itself and the nature of the emails themselves."
   ]
  },
  {
   "cell_type": "markdown",
   "id": "3f25efdc-2048-4208-9f27-63b6502d9504",
   "metadata": {
    "tags": []
   },
   "source": [
    "#### 12.2 Model Limitations"
   ]
  },
  {
   "cell_type": "markdown",
   "id": "6826238c-aa1a-4ab9-b68d-34949e532364",
   "metadata": {},
   "source": [
    "Possible limitations of our model stem from class imbalances in our dataset. According to numerous studies, unbalanced datasets are part and parcel of many practical applications (Japkowicz, 2000). An unbalanced dataset refers to a dataset where the class that is targeted has an uneven distribution of data observations. Our dataset was originally imbalanced with a distribution of 39.4% spam and 60.6% non-spam. This is particularly problematic for the KNN model as it is extremely sensitive to class imbalances. When modeling such data, the accuracy of the KNN model may be severely degraded due to the inclusion of such noisy features (Zhang & Mani, 2003). Past usage of our dataset has a consistent rate of false positives of 20-25%, with 7% misclassification overall. To counteract such limitations, one could adapt the model to undersample observations or could use models better suited to such datasets such as neural networks (ex. Banday et al. (2009) who found that KNN filter often produces the highest false positive rate in comparison to other algorithms such as support vector machine and Naïve Bayes)."
   ]
  },
  {
   "cell_type": "markdown",
   "id": "143c28e6-b3a1-47ae-b929-447543934bca",
   "metadata": {},
   "source": [
    "In addition to not working optimally with unbalanced datasets, the KNN model is computationally intensive and slow during the prediction stage for larger datasets. Seeing as KNN’s accuracy is in direct correlation to the size of the dataset, this induces an indirect limitation on the accuracy of the model (Timbers et al., 2022)."
   ]
  },
  {
   "cell_type": "markdown",
   "id": "9258bb69-2aaf-4ca7-a96f-0ce06d2ecaa6",
   "metadata": {},
   "source": [
    "### 13. Impact and Future Questions"
   ]
  },
  {
   "cell_type": "markdown",
   "id": "49ff6d3d-94b4-438a-ad2f-f85b3db16cd6",
   "metadata": {},
   "source": [
    "#### 13.1 Finding Impacts"
   ]
  },
  {
   "cell_type": "markdown",
   "id": "b2118d06-5bd8-460f-a542-a467a6beef57",
   "metadata": {},
   "source": [
    "Our findings suggest that punctuation such as exclamation marks and dollar signs are possible predictors to classify emails as spam or not. With almost a hundred and fifty billion emails sent daily (Mohammed, 2020), the proliferation of unsolicited emails (ie. spam) poses a safety risk for millions of users. While spam may be relatively harmless, such as advertising spam, spam emails could be used for more harmful purposes, such as ransomware, increasing traffic to malicious websites, or phishing (Alurkar et al., 2017). \n"
   ]
  },
  {
   "cell_type": "markdown",
   "id": "8382bb18-7191-4995-a77a-460740c23ae6",
   "metadata": {},
   "source": [
    "Hence, our findings suggest that punctuation, specifically exclamation marks and dollar signs, could be a viable option for spam-detection algorithms or contribute to ongoing research looking for better spam-detection algorithms. However, bracket signs are not shown to be very good predictors for spam classifications. Overall, perhaps our findings can be intergrated into larger spam-classification research, such as including exclamation marks and dollar signs are predictor variables into larger, more complex models."
   ]
  },
  {
   "cell_type": "markdown",
   "id": "a37c0370-ed04-44e8-98f1-e7be20e64081",
   "metadata": {},
   "source": [
    "#### 13.2 Future Questions"
   ]
  },
  {
   "cell_type": "markdown",
   "id": "d084aa14-c8b1-447b-a15b-bf554f919ce9",
   "metadata": {},
   "source": [
    "Some future questions include: What other types of punctuations could be good predictors of spam? Can our model results and effectiveness of exclamation marks and dollar signs for spam classification be generalized onto a larger population (ie. would exclamation marks and dollar signs be good for other types of emails beyond our dataset?)"
   ]
  },
  {
   "cell_type": "markdown",
   "id": "28f8c35b",
   "metadata": {},
   "source": [
    "## References"
   ]
  },
  {
   "cell_type": "markdown",
   "id": "c68ee720",
   "metadata": {},
   "source": [
    "- Ahmed, N., Amin, R., Aldabbas, H., Koundal, D., Alouffi, B., &amp; Shah, T. (2022, February 3). Machine learning techniques for spam detection in email and IOT Platforms: Analysis and Research Challenges. Security and Communication Networks. Retrieved November 26, 2022, from https://www.hindawi.com/journals/scn/2022/1862888/ \n",
    "\n",
    "- Banday, Tariq, M., & Jan, R. (2009). Effectiveness and limitations of statistical spam filters. Proceedings of the International Conference on New Trends in Statistics and Optimization, Srinagar, India, 2009, 40-65\n",
    "\n",
    "- Dua, D. and Graff, C. (2019). UCI Machine Learning Repository [http://archive.ics.uci.edu/ml]. Irvine, CA: University of California, School of Information and Computer Science.\n",
    "\n",
    "- Hopkins, M., Reeber, E., Forman, G., Suermondt, J., Hewlett-Packard Labs (1999). Spambase [Spambase Data Set]. UCI Machine Learning Repository Irvine, CA: University of California, School of Information and Computer Science.\n",
    "\n",
    "- Japkowicz, N. (2000). Learning from Imbalanced Datasets: A comparison of various strategies. Proceedings of Learning from Imbalanced Datasets, AAAI Work-shop. Technical Report WS-00-05, 10-15.\n",
    "\n",
    "- Mohammad, R.M.A. (2020), \"A lifelong spam emails classification model\", Applied Computing and Informatics, Vol. ahead-of-print No. ahead-of-print. https://doi.org/10.1016/j.aci.2020.01.002\n",
    "\n",
    "- Santos, M. (2021, September 22). False positives vs. false negatives. Medium. Retrieved December 7, 2022, from https://towardsdatascience.com/false-positives-vs-false-negatives-4184c2ff941a\n",
    "\n",
    "- Timbers, T., Campbell, T., & Lee, M. (2022). Data Science. CRC Press.\n",
    "\n",
    "- Zhang, J.P. and Mani, I. (2003) KNN Approach to Unbalanced Data Distributions: A Case Study Involving Information Extraction. Proceeding of International Conference on Machine Learning (ICML 2003), Workshop on Learning from Imbalanced Data Sets, Washington DC."
   ]
  }
 ],
 "metadata": {
  "kernelspec": {
   "display_name": "R",
   "language": "R",
   "name": "ir"
  },
  "language_info": {
   "codemirror_mode": "r",
   "file_extension": ".r",
   "mimetype": "text/x-r-source",
   "name": "R",
   "pygments_lexer": "r",
   "version": "4.1.3"
  }
 },
 "nbformat": 4,
 "nbformat_minor": 5
}
